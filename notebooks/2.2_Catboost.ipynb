{
 "cells": [
  {
   "cell_type": "code",
   "execution_count": 1,
   "id": "83befc40-aa85-4dfc-b1d1-58aa17e94c36",
   "metadata": {},
   "outputs": [
    {
     "name": "stderr",
     "output_type": "stream",
     "text": [
      "/Users/aleksandryusov/.pyenv/versions/base/lib/python3.10/site-packages/lightfm/_lightfm_fast.py:9: UserWarning: LightFM was compiled without OpenMP support. Only a single thread will be used.\n",
      "  warnings.warn(\n"
     ]
    }
   ],
   "source": [
    "import os\n",
    "import threadpoolctl\n",
    "import warnings\n",
    "from pathlib import Path\n",
    "import re\n",
    "import sys\n",
    "sys.path.append(\"../\")\n",
    "\n",
    "import pandas as pd\n",
    "import numpy as np\n",
    "import seaborn as sns\n",
    "from matplotlib import pyplot as plt\n",
    "import polars as pl\n",
    "from sklearn.metrics import roc_auc_score\n",
    "from sklearn.model_selection import train_test_split\n",
    "\n",
    "from rectools.metrics import MAP, calc_metrics, MeanInvUserFreq, Serendipity, HitRate\n",
    "from rectools.models import ImplicitALSWrapperModel\n",
    "from rectools import Columns\n",
    "from rectools.dataset import Dataset\n",
    "from implicit.als import AlternatingLeastSquares\n",
    "\n",
    "\n",
    "from src.metrics import calc_user_auc\n",
    "\n",
    "warnings.filterwarnings('ignore')\n",
    "sns.set_theme(style=\"whitegrid\")\n",
    "\n",
    "# For implicit ALS\n",
    "os.environ[\"OPENBLAS_NUM_THREADS\"] = \"1\"\n",
    "threadpoolctl.threadpool_limits(1, \"blas\")\n",
    "\n",
    "%load_ext autoreload\n",
    "%autoreload 2"
   ]
  },
  {
   "cell_type": "markdown",
   "id": "de803a15-57d9-47b8-8e1c-5309ee0b8cbe",
   "metadata": {},
   "source": [
    "# Data"
   ]
  },
  {
   "cell_type": "code",
   "execution_count": 2,
   "id": "a7ff0299-e9f2-4630-9008-75ee66b5cdfd",
   "metadata": {},
   "outputs": [],
   "source": [
    "data_dir = Path(\"../data/raw/\")"
   ]
  },
  {
   "cell_type": "raw",
   "id": "b1d6773d-81a2-4c93-aee6-0be8d2fe41eb",
   "metadata": {},
   "source": [
    "interactions_df = pl.read_parquet(data_dir / \"train_interactions.parquet\")"
   ]
  },
  {
   "cell_type": "code",
   "execution_count": 3,
   "id": "a989aae6-3fa6-449b-a476-081d6dd0e5ce",
   "metadata": {},
   "outputs": [],
   "source": [
    "test_pairs = pl.read_csv(data_dir / \"test_pairs.csv.csv\").with_columns(\n",
    "    pl.col(\"item_id\").cast(pl.UInt32),\n",
    "    pl.col(\"user_id\").cast(pl.UInt32)\n",
    ")\n",
    "items_meta_df = pl.read_parquet(\"../data/raw/items_meta.parquet\")\n",
    "users_meta_df = pl.read_parquet(\"../data/raw/users_meta.parquet\")"
   ]
  },
  {
   "cell_type": "code",
   "execution_count": 4,
   "id": "5f838d50-1ea8-4b01-aa1c-845802f2062c",
   "metadata": {},
   "outputs": [],
   "source": [
    "train_df_als = pl.read_parquet(\"../data/processed/train_df_als.parquet\")\n",
    "train_df_cb = pl.read_parquet(\"../data/processed/train_df_cb.parquet\")\n",
    "test_df = pl.read_parquet(\"../data/processed/test_df.parquet\")"
   ]
  },
  {
   "cell_type": "markdown",
   "id": "27281828-03f3-425a-b8da-bce9ce977771",
   "metadata": {
    "jp-MarkdownHeadingCollapsed": true
   },
   "source": [
    "## Train / test split\n",
    "\n",
    "- в финальном датасете берем 20 взаимодействий"
   ]
  },
  {
   "cell_type": "code",
   "execution_count": 22,
   "id": "64665b5a-6b82-4191-a576-9b480556adc6",
   "metadata": {},
   "outputs": [],
   "source": [
    "test_df = (\n",
    "    interactions_df\n",
    "    .group_by(\"user_id\")\n",
    "    .agg(pl.col(\"item_id\").count().alias(\"n_items\"))\n",
    "    .filter(pl.col(\"n_items\") > 20)\n",
    "    .drop(\"n_items\")\n",
    "    .join(interactions_df, how=\"left\", on=\"user_id\")\n",
    "    .with_columns(pl.first().cum_count(reverse=True).alias(\"row_number\").over(\"user_id\").alias(\"rn\"))\n",
    "    .filter(pl.col(\"rn\") <= 20)\n",
    "    .drop(\"rn\")\n",
    ")"
   ]
  },
  {
   "cell_type": "code",
   "execution_count": 23,
   "id": "67759d96-0798-4737-ac68-6d8b8d7c64b3",
   "metadata": {},
   "outputs": [],
   "source": [
    "train_df = (\n",
    "    interactions_df\n",
    "    .join(test_df.select(\"user_id\", \"item_id\"), how=\"anti\", on=[\"user_id\", \"item_id\"])\n",
    ")"
   ]
  },
  {
   "cell_type": "code",
   "execution_count": 30,
   "id": "b14727c5-2354-4e00-a5c9-0c41c512a0a2",
   "metadata": {},
   "outputs": [],
   "source": [
    "train_df_stats = (\n",
    "    train_df\n",
    "    .lazy()\n",
    "    .with_columns(\n",
    "        pl.first().cum_count(reverse=True).over(\"user_id\").alias(\"rn\"),\n",
    "        pl.first().count().over(\"user_id\").alias(\"max_rn\"),\n",
    "    )\n",
    "    .with_columns(\n",
    "        (pl.col(\"rn\") / pl.col(\"max_rn\")).alias(\"rn_ratio\")\n",
    "    )\n",
    ")\n",
    "\n",
    "train_df_cb = (\n",
    "    train_df_stats\n",
    "    .filter(\n",
    "        pl.col(\"rn_ratio\") < 0.2\n",
    "    )\n",
    "    .drop(\"rn_ratio\")\n",
    "    .collect()\n",
    ")\n",
    "\n",
    "train_df_als = (\n",
    "    train_df_stats\n",
    "    .filter(\n",
    "        pl.col(\"rn_ratio\") >= 0.2\n",
    "    )\n",
    "    .drop(\"rn_ratio\")\n",
    "    .collect()\n",
    ")"
   ]
  },
  {
   "cell_type": "raw",
   "id": "4583a9e3-2728-453f-8c52-ed93465f6c07",
   "metadata": {},
   "source": [
    "train_df_als.write_parquet(\"../data/processed/train_df_als.parquet\")\n",
    "train_df_cb.write_parquet(\"../data/processed/train_df_cb.parquet\")\n",
    "test_df.write_parquet(\"../data/processed/test_df.parquet\")"
   ]
  },
  {
   "cell_type": "markdown",
   "id": "bb149dc3-d45e-4ce1-a74d-878500c1acbf",
   "metadata": {},
   "source": [
    "## Target"
   ]
  },
  {
   "cell_type": "code",
   "execution_count": 5,
   "id": "088328a6-35c9-4740-80b2-df283cbf22c8",
   "metadata": {},
   "outputs": [
    {
     "data": {
      "text/html": [
       "<div><style>\n",
       ".dataframe > thead > tr,\n",
       ".dataframe > tbody > tr {\n",
       "  text-align: right;\n",
       "  white-space: pre-wrap;\n",
       "}\n",
       "</style>\n",
       "<small>shape: (3, 4)</small><table border=\"1\" class=\"dataframe\"><thead><tr><th>user_id</th><th>item_id</th><th>weight</th><th>datetime</th></tr><tr><td>u32</td><td>u32</td><td>i8</td><td>i32</td></tr></thead><tbody><tr><td>79860</td><td>209841</td><td>1</td><td>1</td></tr><tr><td>83240</td><td>287297</td><td>1</td><td>1</td></tr><tr><td>143167</td><td>250303</td><td>1</td><td>1</td></tr></tbody></table></div>"
      ],
      "text/plain": [
       "shape: (3, 4)\n",
       "┌─────────┬─────────┬────────┬──────────┐\n",
       "│ user_id ┆ item_id ┆ weight ┆ datetime │\n",
       "│ ---     ┆ ---     ┆ ---    ┆ ---      │\n",
       "│ u32     ┆ u32     ┆ i8     ┆ i32      │\n",
       "╞═════════╪═════════╪════════╪══════════╡\n",
       "│ 79860   ┆ 209841  ┆ 1      ┆ 1        │\n",
       "│ 83240   ┆ 287297  ┆ 1      ┆ 1        │\n",
       "│ 143167  ┆ 250303  ┆ 1      ┆ 1        │\n",
       "└─────────┴─────────┴────────┴──────────┘"
      ]
     },
     "execution_count": 5,
     "metadata": {},
     "output_type": "execute_result"
    }
   ],
   "source": [
    "train_df_als_like = (\n",
    "    train_df_als\n",
    "    .filter((pl.col(\"like\") + pl.col(\"dislike\")) >= 1)\n",
    "    .with_columns(weight=pl.col(\"like\").cast(pl.Int8) - pl.col(\"dislike\").cast(pl.Int8))\n",
    "    .select(\"user_id\", \"item_id\", pl.col(\"weight\").alias(Columns.Weight), pl.lit(1).alias(Columns.Datetime))\n",
    ")\n",
    "\n",
    "train_df_als_like.sample(3)"
   ]
  },
  {
   "cell_type": "code",
   "execution_count": 6,
   "id": "7dcb18f3-42f7-418b-97df-ec954c7c818b",
   "metadata": {},
   "outputs": [],
   "source": [
    "share_weight = 1\n",
    "bookmarks_weight = 1\n",
    "like_weight = 1\n",
    "\n",
    "train_df_als_like_book_share = (\n",
    "    train_df_als\n",
    "    .filter((pl.col(\"like\") + pl.col(\"dislike\") + pl.col(\"share\") + pl.col(\"bookmarks\")) >= 1)\n",
    "    .with_columns(\n",
    "        weight=(\n",
    "            pl.when(pl.col(\"dislike\") == 0).then(\n",
    "                like_weight * pl.col(\"like\")\n",
    "                + share_weight * pl.col(\"share\")\n",
    "                + bookmarks_weight * pl.col(\"bookmarks\")\n",
    "            ).otherwise(-1).cast(pl.Int8)\n",
    "        )\n",
    "    )\n",
    "    .select(\"user_id\", \"item_id\", pl.col(\"weight\").alias(Columns.Weight), pl.lit(1).alias(Columns.Datetime))\n",
    ")"
   ]
  },
  {
   "cell_type": "markdown",
   "id": "c29b1ed8-45bf-4322-87f7-dc5e02a12d22",
   "metadata": {},
   "source": [
    "## User features"
   ]
  },
  {
   "cell_type": "code",
   "execution_count": 7,
   "id": "7fe3d3df-cd63-4d73-9cbf-55c50faa4e11",
   "metadata": {},
   "outputs": [
    {
     "data": {
      "text/html": [
       "<div><style>\n",
       ".dataframe > thead > tr,\n",
       ".dataframe > tbody > tr {\n",
       "  text-align: right;\n",
       "  white-space: pre-wrap;\n",
       "}\n",
       "</style>\n",
       "<small>shape: (3, 3)</small><table border=\"1\" class=\"dataframe\"><thead><tr><th>id</th><th>feature</th><th>value</th></tr><tr><td>u32</td><td>str</td><td>u32</td></tr></thead><tbody><tr><td>84185</td><td>&quot;gender&quot;</td><td>1</td></tr><tr><td>181845</td><td>&quot;age_group&quot;</td><td>2</td></tr><tr><td>123589</td><td>&quot;age_group&quot;</td><td>2</td></tr></tbody></table></div>"
      ],
      "text/plain": [
       "shape: (3, 3)\n",
       "┌────────┬───────────┬───────┐\n",
       "│ id     ┆ feature   ┆ value │\n",
       "│ ---    ┆ ---       ┆ ---   │\n",
       "│ u32    ┆ str       ┆ u32   │\n",
       "╞════════╪═══════════╪═══════╡\n",
       "│ 84185  ┆ gender    ┆ 1     │\n",
       "│ 181845 ┆ age_group ┆ 2     │\n",
       "│ 123589 ┆ age_group ┆ 2     │\n",
       "└────────┴───────────┴───────┘"
      ]
     },
     "execution_count": 7,
     "metadata": {},
     "output_type": "execute_result"
    }
   ],
   "source": [
    "users_meta_df_flatten = (\n",
    "    users_meta_df\n",
    "    .with_columns(pl.col(\"age\").cut(list(range(10, 100, 5))).to_physical().alias(\"age_group\"))\n",
    "    .melt(id_vars=[\"user_id\"], value_vars=[\"gender\", \"age_group\"], variable_name=\"feature\", value_name=\"value\")\n",
    "    .rename({\"user_id\": \"id\"})\n",
    ")\n",
    "\n",
    "users_meta_df_flatten.sample(3)"
   ]
  },
  {
   "cell_type": "markdown",
   "id": "cf8c6df9-ef42-4056-831c-61f36fa5d009",
   "metadata": {},
   "source": [
    "## Item features"
   ]
  },
  {
   "cell_type": "code",
   "execution_count": 8,
   "id": "d23cbcf4-858a-46e0-9267-2c82a11dd39b",
   "metadata": {},
   "outputs": [
    {
     "data": {
      "text/html": [
       "<div><style>\n",
       ".dataframe > thead > tr,\n",
       ".dataframe > tbody > tr {\n",
       "  text-align: right;\n",
       "  white-space: pre-wrap;\n",
       "}\n",
       "</style>\n",
       "<small>shape: (3, 3)</small><table border=\"1\" class=\"dataframe\"><thead><tr><th>id</th><th>feature</th><th>value</th></tr><tr><td>u32</td><td>str</td><td>u32</td></tr></thead><tbody><tr><td>333986</td><td>&quot;duration&quot;</td><td>0</td></tr><tr><td>235861</td><td>&quot;duration&quot;</td><td>1</td></tr><tr><td>271394</td><td>&quot;duration&quot;</td><td>0</td></tr></tbody></table></div>"
      ],
      "text/plain": [
       "shape: (3, 3)\n",
       "┌────────┬──────────┬───────┐\n",
       "│ id     ┆ feature  ┆ value │\n",
       "│ ---    ┆ ---      ┆ ---   │\n",
       "│ u32    ┆ str      ┆ u32   │\n",
       "╞════════╪══════════╪═══════╡\n",
       "│ 333986 ┆ duration ┆ 0     │\n",
       "│ 235861 ┆ duration ┆ 1     │\n",
       "│ 271394 ┆ duration ┆ 0     │\n",
       "└────────┴──────────┴───────┘"
      ]
     },
     "execution_count": 8,
     "metadata": {},
     "output_type": "execute_result"
    }
   ],
   "source": [
    "items_meta_df_flatten = (\n",
    "    items_meta_df\n",
    "    .with_columns(\n",
    "        pl.col(\"duration\").cut([25, 60]).to_physical()\n",
    "    )\n",
    "    .melt(id_vars=[\"item_id\"], value_vars=[\"duration\"], variable_name=\"feature\", value_name=\"value\")\n",
    "    .rename({\"item_id\": \"id\"})\n",
    ")\n",
    "\n",
    "items_meta_df_flatten.sample(3)"
   ]
  },
  {
   "cell_type": "markdown",
   "id": "e6fca710-19bc-4a80-ad0c-b2d837830db9",
   "metadata": {},
   "source": [
    "# Дополнительные признаки"
   ]
  },
  {
   "cell_type": "markdown",
   "id": "91f3b56a-0d46-48b8-97e8-733a7b1c80ff",
   "metadata": {},
   "source": [
    "### Расстояние между эмбеддингами "
   ]
  },
  {
   "cell_type": "code",
   "execution_count": 9,
   "id": "24334f5b-bdb9-4c05-ac82-77b911a0410a",
   "metadata": {},
   "outputs": [],
   "source": [
    "def calc_mean_embedding(embeddings: pl.Series):\n",
    "    return embeddings.to_numpy().mean(axis=0).tolist()\n",
    "    \n",
    "\n",
    "user_liked_mean_embeddings = (\n",
    "    train_df_als\n",
    "    .filter(pl.col(\"like\") + pl.col(\"share\") + pl.col(\"bookmarks\") >= 1)\n",
    "    .join(items_meta_df.select(\"item_id\", \"source_id\", \"embeddings\"), how=\"left\", on=\"item_id\")\n",
    "    .group_by(\"user_id\")\n",
    "    .agg(pl.col(\"embeddings\").map_elements(calc_mean_embedding))\n",
    "    .with_columns(pl.col(\"embeddings\").list.to_array(32))\n",
    ")\n",
    "\n",
    "user_disliked_mean_embeddings = (\n",
    "    train_df_als\n",
    "    .filter(pl.col(\"dislike\") == 1)\n",
    "    .join(items_meta_df.select(\"item_id\", \"source_id\", \"embeddings\"), how=\"left\", on=\"item_id\")\n",
    "    .group_by(\"user_id\")\n",
    "    .agg(pl.col(\"embeddings\").map_elements(calc_mean_embedding))\n",
    "    .with_columns(pl.col(\"embeddings\").list.to_array(32))\n",
    ")"
   ]
  },
  {
   "cell_type": "code",
   "execution_count": 22,
   "id": "302b13dc-67aa-40d1-86f2-7b67cfe5b8f1",
   "metadata": {},
   "outputs": [],
   "source": [
    "from tqdm.auto import tqdm\n",
    "\n",
    "\n",
    "def dot_product(x):\n",
    "    left_embeddings = x.struct[0].to_numpy()\n",
    "    right_embeddings = x.struct[1].to_numpy()\n",
    "\n",
    "    dot_product = (left_embeddings * right_embeddings).sum(axis=1)\n",
    "\n",
    "    return dot_product\n",
    "\n",
    "\n",
    "def get_emb_sim_features(df_pairs, items_meta_df, user_liked_mean_embeddings, user_disliked_mean_embeddings):\n",
    "    chunk_size = 100_000\n",
    "    sliced_result = []\n",
    "    for df_sample in tqdm(df_pairs.select(\"user_id\", \"item_id\").iter_slices(n_rows=chunk_size), total=df_pairs.shape[0] // chunk_size + 1):\n",
    "        df_sample = (\n",
    "            df_sample\n",
    "            .join(items_meta_df.select(\"item_id\", \"embeddings\"), on=\"item_id\", how=\"inner\")\n",
    "        )\n",
    "\n",
    "        liked_sim = (\n",
    "            df_sample\n",
    "            .join(user_liked_mean_embeddings, on=\"user_id\", how=\"inner\")\n",
    "            .with_columns(pl.struct(\"embeddings\", \"embeddings_right\").map_batches(dot_product).alias(\"liked_embeddings_sim\"))\n",
    "            .select(\"user_id\", \"item_id\", \"liked_embeddings_sim\")\n",
    "        )\n",
    "    \n",
    "        disliked_sim = (\n",
    "            df_sample\n",
    "            .join(user_disliked_mean_embeddings, on=\"user_id\", how=\"inner\")\n",
    "            .with_columns(pl.struct(\"embeddings\", \"embeddings_right\").map_batches(dot_product).alias(\"disliked_embeddings_sim\"))\n",
    "            .select(\"user_id\", \"item_id\", \"disliked_embeddings_sim\")\n",
    "        )\n",
    "    \n",
    "        sliced_result.append((\n",
    "            df_sample\n",
    "            .select(\"user_id\", \"item_id\")\n",
    "            .join(liked_sim, how=\"left\", on=[\"user_id\", \"item_id\"])\n",
    "            .join(disliked_sim, how=\"left\", on=[\"user_id\", \"item_id\"])\n",
    "        ))\n",
    "    \n",
    "    return (\n",
    "        pl.concat(sliced_result)\n",
    "        .with_columns(\n",
    "            pl.col(\"liked_embeddings_sim\").fill_null(pl.col(\"liked_embeddings_sim\").mean()),\n",
    "            pl.col(\"disliked_embeddings_sim\").fill_null(pl.col(\"disliked_embeddings_sim\").mean())\n",
    "        )\n",
    "    )"
   ]
  },
  {
   "cell_type": "code",
   "execution_count": 23,
   "id": "f6c8d543-31bb-4aee-bb04-2c8354876563",
   "metadata": {},
   "outputs": [
    {
     "data": {
      "application/vnd.jupyter.widget-view+json": {
       "model_id": "39c222995e8241748f9ae5eb6ba6db82",
       "version_major": 2,
       "version_minor": 0
      },
      "text/plain": [
       "  0%|          | 0/283 [00:00<?, ?it/s]"
      ]
     },
     "metadata": {},
     "output_type": "display_data"
    },
    {
     "data": {
      "application/vnd.jupyter.widget-view+json": {
       "model_id": "4e28e8124050438198ae060f1ef9cd8c",
       "version_major": 2,
       "version_minor": 0
      },
      "text/plain": [
       "  0%|          | 0/37 [00:00<?, ?it/s]"
      ]
     },
     "metadata": {},
     "output_type": "display_data"
    },
    {
     "data": {
      "application/vnd.jupyter.widget-view+json": {
       "model_id": "5f50b013f9b64ab1ac71b0629ece5490",
       "version_major": 2,
       "version_minor": 0
      },
      "text/plain": [
       "  0%|          | 0/17 [00:00<?, ?it/s]"
      ]
     },
     "metadata": {},
     "output_type": "display_data"
    }
   ],
   "source": [
    "train_df_cb_sim_features = get_emb_sim_features(train_df_cb, items_meta_df, user_liked_mean_embeddings, user_disliked_mean_embeddings)\n",
    "test_df_sim_features = get_emb_sim_features(test_df, items_meta_df, user_liked_mean_embeddings, user_disliked_mean_embeddings)\n",
    "test_pairs_sim_features = get_emb_sim_features(test_pairs, items_meta_df, user_liked_mean_embeddings, user_disliked_mean_embeddings)"
   ]
  },
  {
   "cell_type": "markdown",
   "id": "18e138b5-b38e-4162-96e5-792d60edbf9f",
   "metadata": {},
   "source": [
    "### Статистики"
   ]
  },
  {
   "cell_type": "code",
   "execution_count": 26,
   "id": "48daa0fb-2131-4a77-80fe-f6b1c2e360d4",
   "metadata": {},
   "outputs": [
    {
     "data": {
      "text/html": [
       "<div><style>\n",
       ".dataframe > thead > tr,\n",
       ".dataframe > tbody > tr {\n",
       "  text-align: right;\n",
       "  white-space: pre-wrap;\n",
       "}\n",
       "</style>\n",
       "<small>shape: (313_744, 8)</small><table border=\"1\" class=\"dataframe\"><thead><tr><th>item_id</th><th>n_users</th><th>mean_like</th><th>mean_dislike</th><th>mean_share</th><th>mean_bookmarks</th><th>mean_timespent_ratio</th><th>like_dislike_ratio</th></tr><tr><td>u32</td><td>u32</td><td>f64</td><td>f64</td><td>f64</td><td>f64</td><td>f64</td><td>f64</td></tr></thead><tbody><tr><td>246865</td><td>12</td><td>0.0</td><td>0.0</td><td>0.0</td><td>0.0</td><td>0.535714</td><td>1.0</td></tr><tr><td>205168</td><td>155</td><td>0.012903</td><td>0.0</td><td>0.006452</td><td>0.0</td><td>0.471929</td><td>1.0</td></tr><tr><td>257735</td><td>65</td><td>0.0</td><td>0.0</td><td>0.0</td><td>0.0</td><td>0.500265</td><td>1.0</td></tr><tr><td>224827</td><td>20</td><td>0.05</td><td>0.0</td><td>0.05</td><td>0.0</td><td>0.72</td><td>1.0</td></tr><tr><td>291268</td><td>3172</td><td>0.004414</td><td>0.000631</td><td>0.002207</td><td>0.0</td><td>0.372315</td><td>0.826087</td></tr><tr><td>&hellip;</td><td>&hellip;</td><td>&hellip;</td><td>&hellip;</td><td>&hellip;</td><td>&hellip;</td><td>&hellip;</td><td>&hellip;</td></tr><tr><td>63526</td><td>10</td><td>0.3</td><td>0.0</td><td>0.0</td><td>0.0</td><td>0.189474</td><td>1.0</td></tr><tr><td>246790</td><td>55</td><td>0.145455</td><td>0.0</td><td>0.036364</td><td>0.0</td><td>0.758442</td><td>1.0</td></tr><tr><td>136672</td><td>6892</td><td>0.002902</td><td>0.000145</td><td>0.003482</td><td>0.000435</td><td>0.580344</td><td>0.958333</td></tr><tr><td>277450</td><td>10</td><td>0.1</td><td>0.0</td><td>0.0</td><td>0.0</td><td>0.8</td><td>1.0</td></tr><tr><td>262421</td><td>16</td><td>0.0</td><td>0.0</td><td>0.0</td><td>0.0</td><td>0.75</td><td>1.0</td></tr></tbody></table></div>"
      ],
      "text/plain": [
       "shape: (313_744, 8)\n",
       "┌─────────┬─────────┬───────────┬─────────────┬────────────┬─────────────┬────────────┬────────────┐\n",
       "│ item_id ┆ n_users ┆ mean_like ┆ mean_dislik ┆ mean_share ┆ mean_bookma ┆ mean_times ┆ like_disli │\n",
       "│ ---     ┆ ---     ┆ ---       ┆ e           ┆ ---        ┆ rks         ┆ pent_ratio ┆ ke_ratio   │\n",
       "│ u32     ┆ u32     ┆ f64       ┆ ---         ┆ f64        ┆ ---         ┆ ---        ┆ ---        │\n",
       "│         ┆         ┆           ┆ f64         ┆            ┆ f64         ┆ f64        ┆ f64        │\n",
       "╞═════════╪═════════╪═══════════╪═════════════╪════════════╪═════════════╪════════════╪════════════╡\n",
       "│ 246865  ┆ 12      ┆ 0.0       ┆ 0.0         ┆ 0.0        ┆ 0.0         ┆ 0.535714   ┆ 1.0        │\n",
       "│ 205168  ┆ 155     ┆ 0.012903  ┆ 0.0         ┆ 0.006452   ┆ 0.0         ┆ 0.471929   ┆ 1.0        │\n",
       "│ 257735  ┆ 65      ┆ 0.0       ┆ 0.0         ┆ 0.0        ┆ 0.0         ┆ 0.500265   ┆ 1.0        │\n",
       "│ 224827  ┆ 20      ┆ 0.05      ┆ 0.0         ┆ 0.05       ┆ 0.0         ┆ 0.72       ┆ 1.0        │\n",
       "│ 291268  ┆ 3172    ┆ 0.004414  ┆ 0.000631    ┆ 0.002207   ┆ 0.0         ┆ 0.372315   ┆ 0.826087   │\n",
       "│ …       ┆ …       ┆ …         ┆ …           ┆ …          ┆ …           ┆ …          ┆ …          │\n",
       "│ 63526   ┆ 10      ┆ 0.3       ┆ 0.0         ┆ 0.0        ┆ 0.0         ┆ 0.189474   ┆ 1.0        │\n",
       "│ 246790  ┆ 55      ┆ 0.145455  ┆ 0.0         ┆ 0.036364   ┆ 0.0         ┆ 0.758442   ┆ 1.0        │\n",
       "│ 136672  ┆ 6892    ┆ 0.002902  ┆ 0.000145    ┆ 0.003482   ┆ 0.000435    ┆ 0.580344   ┆ 0.958333   │\n",
       "│ 277450  ┆ 10      ┆ 0.1       ┆ 0.0         ┆ 0.0        ┆ 0.0         ┆ 0.8        ┆ 1.0        │\n",
       "│ 262421  ┆ 16      ┆ 0.0       ┆ 0.0         ┆ 0.0        ┆ 0.0         ┆ 0.75       ┆ 1.0        │\n",
       "└─────────┴─────────┴───────────┴─────────────┴────────────┴─────────────┴────────────┴────────────┘"
      ]
     },
     "execution_count": 26,
     "metadata": {},
     "output_type": "execute_result"
    }
   ],
   "source": [
    "from src.data.item_stats import get_item_stats\n",
    "\n",
    "\n",
    "get_item_stats(train_df_als, items_meta_df, min_users_for_stats=10)"
   ]
  },
  {
   "cell_type": "code",
   "execution_count": 25,
   "id": "4dc70ca9-78ef-456c-9ba7-f62543a4725e",
   "metadata": {},
   "outputs": [
    {
     "data": {
      "text/html": [
       "<div><style>\n",
       ".dataframe > thead > tr,\n",
       ".dataframe > tbody > tr {\n",
       "  text-align: right;\n",
       "  white-space: pre-wrap;\n",
       "}\n",
       "</style>\n",
       "<small>shape: (244_342, 8)</small><table border=\"1\" class=\"dataframe\"><thead><tr><th>item_id</th><th>n_users</th><th>mean_like</th><th>mean_dislike</th><th>mean_share</th><th>mean_bookmarks</th><th>mean_timespent_ratio</th><th>like_dislike_ratio</th></tr><tr><td>u32</td><td>u32</td><td>f64</td><td>f64</td><td>f64</td><td>f64</td><td>f64</td><td>f64</td></tr></thead><tbody><tr><td>322479</td><td>13911</td><td>0.002372</td><td>0.000359</td><td>0.0023</td><td>0.000144</td><td>0.805822</td><td>0.861111</td></tr><tr><td>187057</td><td>186</td><td>0.010753</td><td>0.0</td><td>0.0</td><td>0.0</td><td>0.620504</td><td>1.0</td></tr><tr><td>320919</td><td>36</td><td>0.111111</td><td>0.0</td><td>0.0</td><td>0.0</td><td>1.005291</td><td>1.0</td></tr><tr><td>93472</td><td>7552</td><td>0.025424</td><td>0.000662</td><td>0.008475</td><td>0.001589</td><td>0.622006</td><td>0.96337</td></tr><tr><td>98179</td><td>42</td><td>0.142857</td><td>0.0</td><td>0.02381</td><td>0.0</td><td>0.450461</td><td>1.0</td></tr><tr><td>&hellip;</td><td>&hellip;</td><td>&hellip;</td><td>&hellip;</td><td>&hellip;</td><td>&hellip;</td><td>&hellip;</td><td>&hellip;</td></tr><tr><td>102371</td><td>70</td><td>0.057143</td><td>0.0</td><td>0.042857</td><td>0.0</td><td>0.319601</td><td>1.0</td></tr><tr><td>182299</td><td>70</td><td>0.0</td><td>0.0</td><td>0.0</td><td>0.0</td><td>0.631527</td><td>1.0</td></tr><tr><td>311567</td><td>126</td><td>0.007937</td><td>0.0</td><td>0.0</td><td>0.0</td><td>0.523516</td><td>1.0</td></tr><tr><td>192145</td><td>26</td><td>0.038462</td><td>0.0</td><td>0.0</td><td>0.038462</td><td>0.635531</td><td>1.0</td></tr><tr><td>333036</td><td>38</td><td>0.0</td><td>0.026316</td><td>0.026316</td><td>0.0</td><td>0.599723</td><td>1.0</td></tr></tbody></table></div>"
      ],
      "text/plain": [
       "shape: (244_342, 8)\n",
       "┌─────────┬─────────┬───────────┬─────────────┬────────────┬─────────────┬────────────┬────────────┐\n",
       "│ item_id ┆ n_users ┆ mean_like ┆ mean_dislik ┆ mean_share ┆ mean_bookma ┆ mean_times ┆ like_disli │\n",
       "│ ---     ┆ ---     ┆ ---       ┆ e           ┆ ---        ┆ rks         ┆ pent_ratio ┆ ke_ratio   │\n",
       "│ u32     ┆ u32     ┆ f64       ┆ ---         ┆ f64        ┆ ---         ┆ ---        ┆ ---        │\n",
       "│         ┆         ┆           ┆ f64         ┆            ┆ f64         ┆ f64        ┆ f64        │\n",
       "╞═════════╪═════════╪═══════════╪═════════════╪════════════╪═════════════╪════════════╪════════════╡\n",
       "│ 322479  ┆ 13911   ┆ 0.002372  ┆ 0.000359    ┆ 0.0023     ┆ 0.000144    ┆ 0.805822   ┆ 0.861111   │\n",
       "│ 187057  ┆ 186     ┆ 0.010753  ┆ 0.0         ┆ 0.0        ┆ 0.0         ┆ 0.620504   ┆ 1.0        │\n",
       "│ 320919  ┆ 36      ┆ 0.111111  ┆ 0.0         ┆ 0.0        ┆ 0.0         ┆ 1.005291   ┆ 1.0        │\n",
       "│ 93472   ┆ 7552    ┆ 0.025424  ┆ 0.000662    ┆ 0.008475   ┆ 0.001589    ┆ 0.622006   ┆ 0.96337    │\n",
       "│ 98179   ┆ 42      ┆ 0.142857  ┆ 0.0         ┆ 0.02381    ┆ 0.0         ┆ 0.450461   ┆ 1.0        │\n",
       "│ …       ┆ …       ┆ …         ┆ …           ┆ …          ┆ …           ┆ …          ┆ …          │\n",
       "│ 102371  ┆ 70      ┆ 0.057143  ┆ 0.0         ┆ 0.042857   ┆ 0.0         ┆ 0.319601   ┆ 1.0        │\n",
       "│ 182299  ┆ 70      ┆ 0.0       ┆ 0.0         ┆ 0.0        ┆ 0.0         ┆ 0.631527   ┆ 1.0        │\n",
       "│ 311567  ┆ 126     ┆ 0.007937  ┆ 0.0         ┆ 0.0        ┆ 0.0         ┆ 0.523516   ┆ 1.0        │\n",
       "│ 192145  ┆ 26      ┆ 0.038462  ┆ 0.0         ┆ 0.0        ┆ 0.038462    ┆ 0.635531   ┆ 1.0        │\n",
       "│ 333036  ┆ 38      ┆ 0.0       ┆ 0.026316    ┆ 0.026316   ┆ 0.0         ┆ 0.599723   ┆ 1.0        │\n",
       "└─────────┴─────────┴───────────┴─────────────┴────────────┴─────────────┴────────────┴────────────┘"
      ]
     },
     "execution_count": 25,
     "metadata": {},
     "output_type": "execute_result"
    }
   ],
   "source": [
    "item_features_extra = (\n",
    "    train_df_als\n",
    "    .drop([\"rn\", \"max_rn\"])\n",
    "    .join(items_meta_df.select(\"item_id\", \"source_id\", \"duration\"), how=\"left\", on=\"item_id\")\n",
    "    .with_columns(\n",
    "        (pl.col(\"timespent\") / pl.col(\"duration\")).alias(\"timespent_ratio\")\n",
    "    )\n",
    "    .group_by(\"item_id\")\n",
    "    .agg(\n",
    "        pl.first().count().alias(\"n_users\"),\n",
    "        pl.col(\"like\").mean().alias(\"mean_like\"),\n",
    "        pl.col(\"like\").sum().alias(\"sum_like\"),\n",
    "        pl.col(\"dislike\").mean().alias(\"mean_dislike\"),\n",
    "        pl.col(\"dislike\").sum().alias(\"sum_dislike\"),\n",
    "        pl.col(\"share\").mean().alias(\"mean_share\"),\n",
    "        pl.col(\"share\").sum().alias(\"sum_share\"),\n",
    "        pl.col(\"bookmarks\").mean().alias(\"mean_bookmarks\"),\n",
    "        pl.col(\"bookmarks\").sum().alias(\"sum_bookmarks\"),\n",
    "        pl.col(\"timespent_ratio\").mean().alias(\"mean_timespent_ratio\"),\n",
    "    )\n",
    "    .with_columns(\n",
    "        (pl.col(\"sum_like\") + pl.col(\"sum_share\") + pl.col(\"sum_bookmarks\")).alias(\"sum_positive\")\n",
    "    )\n",
    "    .with_columns(\n",
    "        pl.when(pl.col(\"sum_positive\") >= 10).then(\n",
    "            ((pl.col(\"sum_positive\") - pl.col(\"sum_dislike\")) / (pl.col(\"sum_positive\") + pl.col(\"sum_dislike\")))\n",
    "        ).otherwise(None).alias(\"like_dislike_ratio\")\n",
    "    )\n",
    "    .filter(pl.col(\"n_users\") >= 20)\n",
    "    .drop(\n",
    "        \"sum_positive\",\n",
    "        \"sum_bookmarks\",\n",
    "        \"sum_share\",\n",
    "        \"sum_dislike\",\n",
    "        \"sum_like\",\n",
    "    )\n",
    "    .with_columns(\n",
    "        pl.col(\"like_dislike_ratio\").fill_null(1.0)\n",
    "    )\n",
    ")\n",
    "\n",
    "item_features_extra"
   ]
  },
  {
   "cell_type": "markdown",
   "id": "f3dc4e29-8282-402c-bd7f-5e8173e1adf3",
   "metadata": {},
   "source": [
    "# Обучение"
   ]
  },
  {
   "cell_type": "code",
   "execution_count": 26,
   "id": "b7141471-96be-4921-b299-962864050369",
   "metadata": {},
   "outputs": [
    {
     "data": {
      "text/plain": [
       "(5285530, 6168180, 28292042)"
      ]
     },
     "execution_count": 26,
     "metadata": {},
     "output_type": "execute_result"
    }
   ],
   "source": [
    "train_df_als_like.shape[0], train_df_als_like_book_share.shape[0], train_df_cb.shape[0]"
   ]
  },
  {
   "cell_type": "markdown",
   "id": "72666a7a-5cd9-4c0c-b33e-fad21327639e",
   "metadata": {},
   "source": [
    "## Обучение ALS на item"
   ]
  },
  {
   "cell_type": "code",
   "execution_count": 10,
   "id": "9dbaaabd-b5b5-4b96-a9f9-603849f06458",
   "metadata": {},
   "outputs": [],
   "source": [
    "from src.models.als import ALSModel\n",
    "\n",
    "alpha = 10\n",
    "regularization = 0.01\n",
    "n_factors = 64\n",
    "iterations = 30\n"
   ]
  },
  {
   "cell_type": "code",
   "execution_count": 28,
   "id": "dd309540-8be8-4c9f-b357-3f5063db9290",
   "metadata": {},
   "outputs": [],
   "source": [
    "model_item_id = ALSModel(\n",
    "    iterations=iterations,\n",
    "    alpha=alpha,\n",
    "    regularization=regularization,\n",
    "    n_factors=n_factors,\n",
    "    predict_col_name=\"predict_als_item_id\"\n",
    ").fit(train_df_als_like)"
   ]
  },
  {
   "cell_type": "code",
   "execution_count": 29,
   "id": "c87bc1b1-6306-4ca4-b7f2-aec5dfef6dac",
   "metadata": {},
   "outputs": [
    {
     "name": "stderr",
     "output_type": "stream",
     "text": [
      "[01:24:18] {/Users/aleksandryusov/code/competitions/vk/notebooks/../src/models/als.py:126} INFO - ALS: Percent of cold pairs: 0.21195776536737787\n",
      "[01:24:19] {/Users/aleksandryusov/code/competitions/vk/notebooks/../src/models/als.py:126} INFO - ALS: Percent of cold pairs: 0.2379934938902709\n",
      "[01:24:20] {/Users/aleksandryusov/code/competitions/vk/notebooks/../src/models/als.py:126} INFO - ALS: Percent of cold pairs: 0.06759570303059596\n"
     ]
    }
   ],
   "source": [
    "train_df_cb_item_predict = model_item_id.predict_proba(train_df_cb.select(\"user_id\", \"item_id\"))\n",
    "test_df_item_predict = model_item_id.predict_proba(test_df.select(\"user_id\", \"item_id\"))\n",
    "test_pairs_item_predict = model_item_id.predict_proba(test_pairs.select(\"user_id\", \"item_id\"))"
   ]
  },
  {
   "cell_type": "markdown",
   "id": "f41b7b9b-5383-4b15-bd55-84510d5f6a7e",
   "metadata": {},
   "source": [
    "## Обучение ALS на item на другие положительные взаимодействия"
   ]
  },
  {
   "cell_type": "code",
   "execution_count": 30,
   "id": "5021f66a-00e8-4c1d-bcf6-5f68e1000db2",
   "metadata": {},
   "outputs": [],
   "source": [
    "model_item_id_like_book_share = ALSModel(\n",
    "    iterations=iterations,\n",
    "    alpha=alpha,\n",
    "    regularization=regularization,\n",
    "    n_factors=n_factors,\n",
    "    predict_col_name=\"predict_als_item_id_like_book_share\"\n",
    ").fit(train_df_als_like_book_share)"
   ]
  },
  {
   "cell_type": "code",
   "execution_count": 31,
   "id": "8c13989d-f29c-453d-bc8c-4d8e65a7f9a7",
   "metadata": {},
   "outputs": [
    {
     "name": "stderr",
     "output_type": "stream",
     "text": [
      "[01:27:19] {/Users/aleksandryusov/code/competitions/vk/notebooks/../src/models/als.py:126} INFO - ALS: Percent of cold pairs: 0.07067768385187609\n",
      "[01:27:21] {/Users/aleksandryusov/code/competitions/vk/notebooks/../src/models/als.py:126} INFO - ALS: Percent of cold pairs: 0.10050518028484733\n",
      "[01:27:21] {/Users/aleksandryusov/code/competitions/vk/notebooks/../src/models/als.py:126} INFO - ALS: Percent of cold pairs: 0.031576562424476776\n"
     ]
    }
   ],
   "source": [
    "train_df_cb_item_like_book_share_predict = model_item_id_like_book_share.predict_proba(train_df_cb.select(\"user_id\", \"item_id\"))\n",
    "test_df_item_like_book_share_predict = model_item_id_like_book_share.predict_proba(test_df.select(\"user_id\", \"item_id\"))\n",
    "test_pairs_item_like_book_share_predict = model_item_id_like_book_share.predict_proba(test_pairs.select(\"user_id\", \"item_id\"))"
   ]
  },
  {
   "cell_type": "markdown",
   "id": "b795cefa-4458-4ba7-aca4-e1ba93ebd4bb",
   "metadata": {},
   "source": [
    "## Обучение ALS на source_id"
   ]
  },
  {
   "cell_type": "code",
   "execution_count": 17,
   "id": "c9cee243-873d-4fb2-9b62-1ec90d9205a7",
   "metadata": {},
   "outputs": [
    {
     "data": {
      "text/plain": [
       "<src.models.als_item.ALSSource at 0x32cef6890>"
      ]
     },
     "execution_count": 17,
     "metadata": {},
     "output_type": "execute_result"
    }
   ],
   "source": [
    "from src.models.als_item import ALSSource\n",
    "\n",
    "\n",
    "model_source_id = ALSSource(\n",
    "    items_meta_df=items_meta_df,\n",
    "    iterations=iterations,\n",
    "    alpha=alpha,\n",
    "    regularization=regularization,\n",
    "    n_factors=n_factors,\n",
    "    predict_col_name=\"predict_als_item_id_like_book_share\",\n",
    ")\n",
    "\n",
    "model_source_id.fit(train_df_als_like)"
   ]
  },
  {
   "cell_type": "code",
   "execution_count": 18,
   "id": "a9846985-413f-4acc-acae-0e5f9cd862f5",
   "metadata": {},
   "outputs": [
    {
     "name": "stderr",
     "output_type": "stream",
     "text": [
      "[12:19:24] {/Users/aleksandryusov/code/competitions/vk/notebooks/../src/models/als_item.py:56} INFO - Input df columns: ['user_id', 'item_id']\n",
      "[12:19:25] {/Users/aleksandryusov/code/competitions/vk/notebooks/../src/models/als.py:126} INFO - ALS: Percent of cold pairs: 0.04607792317905297\n"
     ]
    },
    {
     "data": {
      "text/html": [
       "<div><style>\n",
       ".dataframe > thead > tr,\n",
       ".dataframe > tbody > tr {\n",
       "  text-align: right;\n",
       "  white-space: pre-wrap;\n",
       "}\n",
       "</style>\n",
       "<small>shape: (1_655_120, 3)</small><table border=\"1\" class=\"dataframe\"><thead><tr><th>user_id</th><th>item_id</th><th>predict_als_item_id_like_book_share</th></tr><tr><td>u32</td><td>u32</td><td>f32</td></tr></thead><tbody><tr><td>1</td><td>7363</td><td>-0.144603</td></tr><tr><td>1</td><td>73770</td><td>-0.00186</td></tr><tr><td>1</td><td>75700</td><td>0.076557</td></tr><tr><td>1</td><td>81204</td><td>0.013697</td></tr><tr><td>1</td><td>110249</td><td>0.156538</td></tr><tr><td>&hellip;</td><td>&hellip;</td><td>&hellip;</td></tr><tr><td>183403</td><td>235097</td><td>0.180878</td></tr><tr><td>183403</td><td>267411</td><td>0.146474</td></tr><tr><td>183403</td><td>273646</td><td>0.003345</td></tr><tr><td>183403</td><td>288305</td><td>-0.016168</td></tr><tr><td>183403</td><td>322029</td><td>0.143601</td></tr></tbody></table></div>"
      ],
      "text/plain": [
       "shape: (1_655_120, 3)\n",
       "┌─────────┬─────────┬─────────────────────────────────┐\n",
       "│ user_id ┆ item_id ┆ predict_als_item_id_like_book_… │\n",
       "│ ---     ┆ ---     ┆ ---                             │\n",
       "│ u32     ┆ u32     ┆ f32                             │\n",
       "╞═════════╪═════════╪═════════════════════════════════╡\n",
       "│ 1       ┆ 7363    ┆ -0.144603                       │\n",
       "│ 1       ┆ 73770   ┆ -0.00186                        │\n",
       "│ 1       ┆ 75700   ┆ 0.076557                        │\n",
       "│ 1       ┆ 81204   ┆ 0.013697                        │\n",
       "│ 1       ┆ 110249  ┆ 0.156538                        │\n",
       "│ …       ┆ …       ┆ …                               │\n",
       "│ 183403  ┆ 235097  ┆ 0.180878                        │\n",
       "│ 183403  ┆ 267411  ┆ 0.146474                        │\n",
       "│ 183403  ┆ 273646  ┆ 0.003345                        │\n",
       "│ 183403  ┆ 288305  ┆ -0.016168                       │\n",
       "│ 183403  ┆ 322029  ┆ 0.143601                        │\n",
       "└─────────┴─────────┴─────────────────────────────────┘"
      ]
     },
     "execution_count": 18,
     "metadata": {},
     "output_type": "execute_result"
    }
   ],
   "source": [
    "model_source_id.predict_proba(test_pairs)"
   ]
  },
  {
   "cell_type": "code",
   "execution_count": 32,
   "id": "45b573f0-c927-45f9-aea9-9a5a5ebae7a9",
   "metadata": {},
   "outputs": [
    {
     "data": {
      "text/html": [
       "<div><style>\n",
       ".dataframe > thead > tr,\n",
       ".dataframe > tbody > tr {\n",
       "  text-align: right;\n",
       "  white-space: pre-wrap;\n",
       "}\n",
       "</style>\n",
       "<small>shape: (3, 4)</small><table border=\"1\" class=\"dataframe\"><thead><tr><th>user_id</th><th>weight</th><th>datetime</th><th>item_id</th></tr><tr><td>u32</td><td>i8</td><td>i32</td><td>u32</td></tr></thead><tbody><tr><td>139367</td><td>1</td><td>1</td><td>6604</td></tr><tr><td>176762</td><td>1</td><td>1</td><td>15882</td></tr><tr><td>140994</td><td>1</td><td>1</td><td>1988</td></tr></tbody></table></div>"
      ],
      "text/plain": [
       "shape: (3, 4)\n",
       "┌─────────┬────────┬──────────┬─────────┐\n",
       "│ user_id ┆ weight ┆ datetime ┆ item_id │\n",
       "│ ---     ┆ ---    ┆ ---      ┆ ---     │\n",
       "│ u32     ┆ i8     ┆ i32      ┆ u32     │\n",
       "╞═════════╪════════╪══════════╪═════════╡\n",
       "│ 139367  ┆ 1      ┆ 1        ┆ 6604    │\n",
       "│ 176762  ┆ 1      ┆ 1        ┆ 15882   │\n",
       "│ 140994  ┆ 1      ┆ 1        ┆ 1988    │\n",
       "└─────────┴────────┴──────────┴─────────┘"
      ]
     },
     "execution_count": 32,
     "metadata": {},
     "output_type": "execute_result"
    }
   ],
   "source": [
    "train_df_als_like_source_id = (\n",
    "    train_df_als_like\n",
    "    .join(items_meta_df.select(\"item_id\", \"source_id\"), how=\"inner\", on=\"item_id\")\n",
    "    .drop(\"item_id\")\n",
    "    .rename({\"source_id\": \"item_id\"})\n",
    ")\n",
    "\n",
    "train_df_als_like_source_id.sample(3)"
   ]
  },
  {
   "cell_type": "code",
   "execution_count": 33,
   "id": "04c9027c-eec7-4f47-b521-0f70d329af30",
   "metadata": {},
   "outputs": [],
   "source": [
    "model_source_id = ALSModel(\n",
    "    iterations=iterations,\n",
    "    alpha=alpha,\n",
    "    regularization=regularization,\n",
    "    n_factors=n_factors,\n",
    "    predict_col_name=\"predict_als_source_id\"\n",
    ").fit(train_df_als_like_source_id)"
   ]
  },
  {
   "cell_type": "code",
   "execution_count": 35,
   "id": "63d779c2-05c2-43a1-9cbe-15a65a5b47e7",
   "metadata": {},
   "outputs": [],
   "source": [
    "train_df_cb = train_df_cb.join(items_meta_df.select(\"item_id\", \"source_id\"), how=\"inner\", on=\"item_id\")\n",
    "test_df = test_df.join(items_meta_df.select(\"item_id\", \"source_id\"), how=\"inner\", on=\"item_id\")\n",
    "test_pairs = test_pairs.join(items_meta_df.select(pl.col(\"item_id\"), \"source_id\"), how=\"inner\", on=\"item_id\")"
   ]
  },
  {
   "cell_type": "code",
   "execution_count": 36,
   "id": "4d3ff042-963f-4a53-ad43-c8daa816f09c",
   "metadata": {},
   "outputs": [
    {
     "name": "stderr",
     "output_type": "stream",
     "text": [
      "[01:29:28] {/Users/aleksandryusov/code/competitions/vk/notebooks/../src/models/als.py:126} INFO - ALS: Percent of cold pairs: 0.19554379419343593\n",
      "[01:29:30] {/Users/aleksandryusov/code/competitions/vk/notebooks/../src/models/als.py:126} INFO - ALS: Percent of cold pairs: 0.2167973864213579\n",
      "[01:29:30] {/Users/aleksandryusov/code/competitions/vk/notebooks/../src/models/als.py:126} INFO - ALS: Percent of cold pairs: 0.04607792317905297\n"
     ]
    }
   ],
   "source": [
    "def predict_source_model(df: pl.DataFrame, items_meta_df: pl.DataFrame, model_source_id) -> pl.DataFrame:\n",
    "    return (\n",
    "        df\n",
    "        .select(\"user_id\", \"item_id\", \"source_id\")\n",
    "        .join(\n",
    "            model_source_id.predict_proba((\n",
    "                df\n",
    "                .drop(\"item_id\")\n",
    "                .rename({\"source_id\": \"item_id\"})\n",
    "                .unique([\"user_id\", \"item_id\"])\n",
    "                .select(\"user_id\", \"item_id\")\n",
    "            )),\n",
    "            how=\"left\", left_on=(\"user_id\", \"source_id\"), right_on=(\"user_id\", \"item_id\"),\n",
    "        )\n",
    "        .drop(\"source_id\")\n",
    "    )\n",
    "    \n",
    "train_df_cb_source_predict = predict_source_model(train_df_cb, items_meta_df, model_source_id)\n",
    "test_df_source_predict = predict_source_model(test_df, items_meta_df, model_source_id)\n",
    "test_pairs_source_predict = predict_source_model(test_pairs, items_meta_df, model_source_id)"
   ]
  },
  {
   "cell_type": "markdown",
   "id": "45cb2f53-e96f-4f5f-932c-a4401cd3d8fe",
   "metadata": {},
   "source": [
    "## Объединение предсказаний"
   ]
  },
  {
   "cell_type": "code",
   "execution_count": 37,
   "id": "04d93391-fb94-49e2-a63e-e4d5b50a3418",
   "metadata": {},
   "outputs": [
    {
     "data": {
      "text/plain": [
       "['n_users',\n",
       " 'mean_like',\n",
       " 'mean_dislike',\n",
       " 'mean_share',\n",
       " 'mean_bookmarks',\n",
       " 'mean_timespent_ratio',\n",
       " 'like_dislike_ratio']"
      ]
     },
     "execution_count": 37,
     "metadata": {},
     "output_type": "execute_result"
    }
   ],
   "source": [
    "item_features_extra_columns = [col for col in item_features_extra.columns if col not in [\"item_id\"]]\n",
    "item_features_extra_columns"
   ]
  },
  {
   "cell_type": "code",
   "execution_count": 38,
   "id": "83e0e6bb-e628-47d0-82a9-181329de842d",
   "metadata": {},
   "outputs": [
    {
     "data": {
      "text/plain": [
       "['liked_embeddings_sim', 'disliked_embeddings_sim']"
      ]
     },
     "execution_count": 38,
     "metadata": {},
     "output_type": "execute_result"
    }
   ],
   "source": [
    "emb_sim_columns = [col for col in test_pairs_sim_features.columns if col not in [\"user_id\", \"item_id\"]]\n",
    "emb_sim_columns"
   ]
  },
  {
   "cell_type": "code",
   "execution_count": 42,
   "id": "154e596d-17f4-4e18-b18c-75a39487597e",
   "metadata": {},
   "outputs": [],
   "source": [
    "from sklearn.metrics import roc_auc_score\n",
    "from catboost import CatBoostClassifier\n",
    "\n",
    "\n",
    "cb_train_df = (\n",
    "    train_df_cb\n",
    "    .join(train_df_cb_item_predict, on=[\"user_id\", \"item_id\"], how=\"left\")\n",
    "    .join(train_df_cb_source_predict, on=[\"user_id\", \"item_id\"], how=\"left\")\n",
    "    .join(train_df_cb_item_like_book_share_predict, on=[\"user_id\", \"item_id\"], how=\"left\")\n",
    "    .join(train_df_cb_sim_features, on=[\"user_id\", \"item_id\"], how=\"left\")\n",
    "    .join(items_meta_df, on=\"item_id\")\n",
    "    .join(item_features_extra, on=\"item_id\")\n",
    "    .drop(\"item_id\")\n",
    "    .select(\n",
    "        \"user_id\", \n",
    "        \"predict_als_item_id\", \"predict_als_source_id\", \"predict_als_item_id_like_book_share\", \"duration\",\n",
    "        *item_features_extra_columns,\n",
    "        *emb_sim_columns,\n",
    "        pl.col(\"like\").cast(int), pl.col(\"dislike\").cast(int),\n",
    "        (pl.col(\"like\") - pl.col(\"dislike\")).alias(\"target\"),\n",
    "        *[\n",
    "            pl.col(\"embeddings\").arr.get(i).alias(f\"e{i}\")\n",
    "            for i in range(32)\n",
    "        ]\n",
    "    )\n",
    "    .sample(1_000_000, seed=24)\n",
    "    .sort(\"user_id\")\n",
    "    .to_pandas()\n",
    ")\n",
    "\n",
    "cb_test_df = (\n",
    "    test_df\n",
    "    # .sample(100_000, seed=42)\n",
    "    .join(test_df_item_predict, on=[\"user_id\", \"item_id\"], how=\"left\")\n",
    "    .join(test_df_source_predict, on=[\"user_id\", \"item_id\"], how=\"left\")\n",
    "    .join(test_df_item_like_book_share_predict, on=[\"user_id\", \"item_id\"], how=\"left\")\n",
    "    .join(test_df_sim_features, on=[\"user_id\", \"item_id\"], how=\"left\")\n",
    "    .join(items_meta_df, on=\"item_id\")\n",
    "    .join(item_features_extra, on=\"item_id\")\n",
    "    .select(\n",
    "        \"user_id\", \"item_id\",\n",
    "        \"predict_als_item_id\", \"predict_als_source_id\", \"predict_als_item_id_like_book_share\", \"duration\",\n",
    "        *item_features_extra_columns,\n",
    "        *emb_sim_columns,\n",
    "        pl.col(\"like\").cast(int), pl.col(\"dislike\").cast(int),\n",
    "        (pl.col(\"like\") - pl.col(\"dislike\")).alias(\"target\"),\n",
    "        *[\n",
    "            pl.col(\"embeddings\").arr.get(i).alias(f\"e{i}\")\n",
    "            for i in range(32)\n",
    "        ]\n",
    "    )\n",
    "    .to_pandas()\n",
    ")"
   ]
  },
  {
   "cell_type": "code",
   "execution_count": 43,
   "id": "568d2e74-8c28-45eb-8506-61cacd7fa3f6",
   "metadata": {},
   "outputs": [],
   "source": [
    "feature_columns = [\n",
    "    \"predict_als_item_id\", \n",
    "    \"predict_als_source_id\", \n",
    "    \"predict_als_item_id_like_book_share\",\n",
    "    \"duration\",\n",
    "    *emb_sim_columns,\n",
    "    *item_features_extra_columns,\n",
    "    *[f\"e{i}\" for i in range(32)]\n",
    "]"
   ]
  },
  {
   "cell_type": "raw",
   "id": "93b77f88-e7be-4610-b76f-d67cdb63b786",
   "metadata": {},
   "source": [
    "cb_model = CatBoostClassifier(\n",
    "    iterations=500, \n",
    "    depth=5, \n",
    "    random_seed=32, \n",
    "    verbose=0\n",
    ")\n",
    "cb_model.fit(cb_train_df[feature_columns], cb_train_df[\"like\"])\n",
    "test_predict = cb_model.predict_proba(cb_test_df[feature_columns])[:, 1]"
   ]
  },
  {
   "cell_type": "code",
   "execution_count": 44,
   "id": "0543cf0c-dc7e-4ba1-9806-1a04597455d3",
   "metadata": {},
   "outputs": [],
   "source": [
    "from catboost import CatBoostRanker\n",
    "\n",
    "\n",
    "cb_model = CatBoostRanker(\n",
    "    iterations=500, \n",
    "    depth=6, \n",
    "    random_seed=32, \n",
    "    verbose=0, \n",
    "    loss_function=\"PairLogit\"\n",
    ")\n",
    "cb_model.fit(cb_train_df[feature_columns], cb_train_df[\"target\"], group_id=cb_train_df[\"user_id\"])\n",
    "test_predict = cb_model.predict(cb_test_df[feature_columns])"
   ]
  },
  {
   "cell_type": "code",
   "execution_count": 45,
   "id": "3223bb03-9ca1-4fa8-979b-2975c0e177b1",
   "metadata": {},
   "outputs": [
    {
     "data": {
      "text/html": [
       "<div><style>\n",
       ".dataframe > thead > tr,\n",
       ".dataframe > tbody > tr {\n",
       "  text-align: right;\n",
       "  white-space: pre-wrap;\n",
       "}\n",
       "</style>\n",
       "<small>shape: (3_601_247, 7)</small><table border=\"1\" class=\"dataframe\"><thead><tr><th>user_id</th><th>target</th><th>item_id</th><th>predict_als_item_id</th><th>predict_als_source_id</th><th>predict_als_item_id_like_book_share</th><th>prediction</th></tr><tr><td>u32</td><td>u8</td><td>u32</td><td>f32</td><td>f32</td><td>f32</td><td>f64</td></tr></thead><tbody><tr><td>58730</td><td>0</td><td>163471</td><td>0.003038</td><td>0.021059</td><td>0.002342</td><td>0.089235</td></tr><tr><td>58730</td><td>0</td><td>28681</td><td>0.001204</td><td>-0.018045</td><td>0.002735</td><td>0.077177</td></tr><tr><td>58730</td><td>0</td><td>61644</td><td>-0.000013</td><td>0.116409</td><td>0.000136</td><td>-0.105965</td></tr><tr><td>58730</td><td>0</td><td>230039</td><td>0.000072</td><td>0.012224</td><td>0.000263</td><td>-0.554528</td></tr><tr><td>58730</td><td>0</td><td>162628</td><td>0.004473</td><td>0.198819</td><td>0.003995</td><td>0.52302</td></tr><tr><td>&hellip;</td><td>&hellip;</td><td>&hellip;</td><td>&hellip;</td><td>&hellip;</td><td>&hellip;</td><td>&hellip;</td></tr><tr><td>42045</td><td>0</td><td>50200</td><td>-1.0</td><td>-1.0</td><td>-1.0</td><td>-0.819945</td></tr><tr><td>42045</td><td>0</td><td>168423</td><td>-1.0</td><td>-1.0</td><td>-1.0</td><td>-1.145419</td></tr><tr><td>42045</td><td>0</td><td>122809</td><td>-1.0</td><td>-1.0</td><td>-1.0</td><td>-0.716433</td></tr><tr><td>42045</td><td>0</td><td>308890</td><td>-1.0</td><td>-1.0</td><td>-1.0</td><td>-0.969262</td></tr><tr><td>42045</td><td>0</td><td>261587</td><td>-1.0</td><td>-1.0</td><td>-1.0</td><td>-0.873952</td></tr></tbody></table></div>"
      ],
      "text/plain": [
       "shape: (3_601_247, 7)\n",
       "┌─────────┬────────┬─────────┬──────────────────┬──────────────────┬──────────────────┬────────────┐\n",
       "│ user_id ┆ target ┆ item_id ┆ predict_als_item ┆ predict_als_sour ┆ predict_als_item ┆ prediction │\n",
       "│ ---     ┆ ---    ┆ ---     ┆ _id              ┆ ce_id            ┆ _id_like_book_…  ┆ ---        │\n",
       "│ u32     ┆ u8     ┆ u32     ┆ ---              ┆ ---              ┆ ---              ┆ f64        │\n",
       "│         ┆        ┆         ┆ f32              ┆ f32              ┆ f32              ┆            │\n",
       "╞═════════╪════════╪═════════╪══════════════════╪══════════════════╪══════════════════╪════════════╡\n",
       "│ 58730   ┆ 0      ┆ 163471  ┆ 0.003038         ┆ 0.021059         ┆ 0.002342         ┆ 0.089235   │\n",
       "│ 58730   ┆ 0      ┆ 28681   ┆ 0.001204         ┆ -0.018045        ┆ 0.002735         ┆ 0.077177   │\n",
       "│ 58730   ┆ 0      ┆ 61644   ┆ -0.000013        ┆ 0.116409         ┆ 0.000136         ┆ -0.105965  │\n",
       "│ 58730   ┆ 0      ┆ 230039  ┆ 0.000072         ┆ 0.012224         ┆ 0.000263         ┆ -0.554528  │\n",
       "│ 58730   ┆ 0      ┆ 162628  ┆ 0.004473         ┆ 0.198819         ┆ 0.003995         ┆ 0.52302    │\n",
       "│ …       ┆ …      ┆ …       ┆ …                ┆ …                ┆ …                ┆ …          │\n",
       "│ 42045   ┆ 0      ┆ 50200   ┆ -1.0             ┆ -1.0             ┆ -1.0             ┆ -0.819945  │\n",
       "│ 42045   ┆ 0      ┆ 168423  ┆ -1.0             ┆ -1.0             ┆ -1.0             ┆ -1.145419  │\n",
       "│ 42045   ┆ 0      ┆ 122809  ┆ -1.0             ┆ -1.0             ┆ -1.0             ┆ -0.716433  │\n",
       "│ 42045   ┆ 0      ┆ 308890  ┆ -1.0             ┆ -1.0             ┆ -1.0             ┆ -0.969262  │\n",
       "│ 42045   ┆ 0      ┆ 261587  ┆ -1.0             ┆ -1.0             ┆ -1.0             ┆ -0.873952  │\n",
       "└─────────┴────────┴─────────┴──────────────────┴──────────────────┴──────────────────┴────────────┘"
      ]
     },
     "execution_count": 45,
     "metadata": {},
     "output_type": "execute_result"
    }
   ],
   "source": [
    "test_df_final_prediction = (\n",
    "    pl.from_pandas(cb_test_df[[\"user_id\", \"target\", \"item_id\", \"predict_als_item_id\", \"predict_als_source_id\", \"predict_als_item_id_like_book_share\"]])\n",
    "    .with_columns(\n",
    "        pl.Series(test_predict).alias(\"prediction\")\n",
    "    )\n",
    ")\n",
    "\n",
    "test_df_final_prediction"
   ]
  },
  {
   "cell_type": "code",
   "execution_count": 46,
   "id": "c69cffde-a311-4594-8127-19f521afab02",
   "metadata": {},
   "outputs": [
    {
     "data": {
      "text/plain": [
       "<Axes: ylabel='Frequency'>"
      ]
     },
     "execution_count": 46,
     "metadata": {},
     "output_type": "execute_result"
    },
    {
     "data": {
      "image/png": "[encoded data removed]",
      "text/plain": [
       "<Figure size 640x480 with 1 Axes>"
      ]
     },
     "metadata": {},
     "output_type": "display_data"
    }
   ],
   "source": [
    "metrics_final = calc_user_auc(\n",
    "    df=test_df_final_prediction,\n",
    "    predict_col=\"prediction\", \n",
    "    target_col=\"target\"\n",
    ")\n",
    "\n",
    "metrics_final[\"rocauc\"].to_pandas().plot.hist(bins=100)"
   ]
  },
  {
   "cell_type": "code",
   "execution_count": 47,
   "id": "9accdbce-da7d-4e0d-bb2c-07aea3758306",
   "metadata": {},
   "outputs": [
    {
     "name": "stdout",
     "output_type": "stream",
     "text": [
      "predict_als_item_id: 0.56427\n",
      "predict_als_source_id: 0.53814\n",
      "prediction: 0.62140\n",
      "predict_als_item_id_like_book_share: 0.56261\n"
     ]
    }
   ],
   "source": [
    "for predict_col in (\"predict_als_item_id\", \"predict_als_source_id\", \"prediction\", \"predict_als_item_id_like_book_share\"):\n",
    "    metric_value = calc_user_auc(\n",
    "        df=test_df_final_prediction,\n",
    "        predict_col=predict_col, \n",
    "        target_col=\"target\"\n",
    "    )[\"rocauc\"].mean()\n",
    "\n",
    "    print(f\"{predict_col}: {metric_value:.5f}\")"
   ]
  },
  {
   "cell_type": "code",
   "execution_count": 29,
   "id": "e3a95b6a-0920-4866-97fd-d2fae24faa2a",
   "metadata": {},
   "outputs": [
    {
     "name": "stdout",
     "output_type": "stream",
     "text": [
      "predict_als_item_id: 0.56427\n",
      "predict_als_source_id: 0.53814\n",
      "prediction: 0.62043\n",
      "predict_als_item_id_like_book_share: 0.56261\n"
     ]
    }
   ],
   "source": [
    "for predict_col in (\"predict_als_item_id\", \"predict_als_source_id\", \"prediction\", \"predict_als_item_id_like_book_share\"):\n",
    "    metric_value = calc_user_auc(\n",
    "        df=test_df_final_prediction,\n",
    "        predict_col=predict_col, \n",
    "        target_col=\"target\"\n",
    "    )[\"rocauc\"].mean()\n",
    "\n",
    "    print(f\"{predict_col}: {metric_value:.5f}\")"
   ]
  },
  {
   "cell_type": "code",
   "execution_count": 24,
   "id": "33aded73-74fe-4830-80f9-5bfe0503b582",
   "metadata": {},
   "outputs": [
    {
     "name": "stdout",
     "output_type": "stream",
     "text": [
      "predict_als_item_id: 0.56172\n",
      "predict_als_source_id: 0.53815\n",
      "prediction: 0.58631\n",
      "predict_als_item_id_like_book_share: 0.55986\n"
     ]
    }
   ],
   "source": [
    "for predict_col in (\"predict_als_item_id\", \"predict_als_source_id\", \"prediction\", \"predict_als_item_id_like_book_share\"):\n",
    "    metric_value = calc_user_auc(\n",
    "        df=test_df_final_prediction,\n",
    "        predict_col=predict_col, \n",
    "        target_col=\"target\"\n",
    "    )[\"rocauc\"].mean()\n",
    "\n",
    "    print(f\"{predict_col}: {metric_value:.5f}\")"
   ]
  },
  {
   "cell_type": "code",
   "execution_count": 54,
   "id": "435318f4-dcef-40a3-8496-069b1b5ea91f",
   "metadata": {},
   "outputs": [
    {
     "name": "stdout",
     "output_type": "stream",
     "text": [
      "predict_als_item_id: 0.56123\n",
      "predict_als_source_id: 0.53745\n",
      "prediction: 0.58624\n",
      "predict_als_item_id_like_book_share: 0.55870\n"
     ]
    }
   ],
   "source": [
    "for predict_col in (\"predict_als_item_id\", \"predict_als_source_id\", \"prediction\", \"predict_als_item_id_like_book_share\"):\n",
    "    metric_value = calc_user_auc(\n",
    "        df=test_df_final_prediction,\n",
    "        predict_col=predict_col, \n",
    "        target_col=\"target\"\n",
    "    )[\"rocauc\"].mean()\n",
    "\n",
    "    print(f\"{predict_col}: {metric_value:.5f}\")"
   ]
  },
  {
   "cell_type": "code",
   "execution_count": 50,
   "id": "c460f92c-4cda-47c6-8d8e-2249dd5fcc97",
   "metadata": {},
   "outputs": [
    {
     "name": "stdout",
     "output_type": "stream",
     "text": [
      "predict_als_item_id: 0.56123\n",
      "predict_als_source_id: 0.53745\n",
      "prediction: 0.58460\n",
      "predict_als_item_id_like_book_share: 0.55870\n"
     ]
    }
   ],
   "source": [
    "for predict_col in (\"predict_als_item_id\", \"predict_als_source_id\", \"prediction\", \"predict_als_item_id_like_book_share\"):\n",
    "    metric_value = calc_user_auc(\n",
    "        df=test_df_final_prediction,\n",
    "        predict_col=predict_col, \n",
    "        target_col=\"target\"\n",
    "    )[\"rocauc\"].mean()\n",
    "\n",
    "    print(f\"{predict_col}: {metric_value:.5f}\")"
   ]
  },
  {
   "cell_type": "code",
   "execution_count": 45,
   "id": "4ef53abf-d80b-4581-bc35-93226adf0777",
   "metadata": {},
   "outputs": [
    {
     "name": "stdout",
     "output_type": "stream",
     "text": [
      "predict_als_item_id: 0.56123\n",
      "predict_als_source_id: 0.53745\n",
      "prediction: 0.57813\n",
      "predict_als_item_id_like_book_share: 0.55870\n"
     ]
    }
   ],
   "source": [
    "for predict_col in (\"predict_als_item_id\", \"predict_als_source_id\", \"prediction\", \"predict_als_item_id_like_book_share\"):\n",
    "    metric_value = calc_user_auc(\n",
    "        df=test_df_final_prediction,\n",
    "        predict_col=predict_col, \n",
    "        target_col=\"target\"\n",
    "    )[\"rocauc\"].mean()\n",
    "\n",
    "    print(f\"{predict_col}: {metric_value:.5f}\")"
   ]
  },
  {
   "cell_type": "markdown",
   "id": "897ab7e8-21ce-4a4e-b349-eb6a0407bee4",
   "metadata": {},
   "source": [
    "# Финальное предсказание"
   ]
  },
  {
   "cell_type": "code",
   "execution_count": 49,
   "id": "c7dfc109-3276-4253-8eab-492f970f10ea",
   "metadata": {},
   "outputs": [],
   "source": [
    "cb_test_pairs_df = (\n",
    "    test_pairs\n",
    "    # .sample(100_000, seed=42)\n",
    "    .join(test_pairs_item_predict, on=[\"user_id\", \"item_id\"], how=\"left\")\n",
    "    .join(test_pairs_source_predict, on=[\"user_id\", \"item_id\"], how=\"left\")\n",
    "    .join(test_pairs_item_like_book_share_predict, on=[\"user_id\", \"item_id\"], how=\"left\")\n",
    "    .with_columns(pl.col(\"item_id\").cast(pl.UInt32))\n",
    "    .join(items_meta_df, on=\"item_id\", how=\"left\")\n",
    "    .join(item_features_extra, on=\"item_id\", how=\"left\")\n",
    "    .join(test_df_sim_features, on=[\"user_id\", \"item_id\"], how=\"left\")\n",
    "    .select(\n",
    "        \"user_id\", \"item_id\",\n",
    "        \"predict_als_item_id\", \"predict_als_source_id\", \"predict_als_item_id_like_book_share\", \"duration\",\n",
    "        *emb_sim_columns,\n",
    "        *item_features_extra_columns,\n",
    "        *[\n",
    "            pl.col(\"embeddings\").arr.get(i).alias(f\"e{i}\")\n",
    "            for i in range(32)\n",
    "        ]\n",
    "    )\n",
    "    .to_pandas()\n",
    ")"
   ]
  },
  {
   "cell_type": "code",
   "execution_count": 50,
   "id": "e683d578-c83e-486b-80cc-147cab1a4780",
   "metadata": {},
   "outputs": [],
   "source": [
    "from datetime import datetime\n",
    "\n",
    "(\n",
    "    cb_test_pairs_df\n",
    "    .assign(predict=cb_model.predict(cb_test_pairs_df[feature_columns]))\n",
    "    [[\n",
    "        \"user_id\",\n",
    "        \"item_id\",\n",
    "        \"predict\"\n",
    "    ]]\n",
    "    .to_csv(f'../data/submissions/{int(datetime.now().timestamp())}_submission.csv', index=False)\n",
    ")"
   ]
  },
  {
   "cell_type": "code",
   "execution_count": null,
   "id": "8f51537e-0e2e-423a-ae39-65bb0545335d",
   "metadata": {},
   "outputs": [],
   "source": []
  }
 ],
 "metadata": {
  "kernelspec": {
   "display_name": "base",
   "language": "python",
   "name": "base"
  },
  "language_info": {
   "codemirror_mode": {
    "name": "ipython",
    "version": 3
   },
   "file_extension": ".py",
   "mimetype": "text/x-python",
   "name": "python",
   "nbconvert_exporter": "python",
   "pygments_lexer": "ipython3",
   "version": "3.10.12"
  }
 },
 "nbformat": 4,
 "nbformat_minor": 5
}
