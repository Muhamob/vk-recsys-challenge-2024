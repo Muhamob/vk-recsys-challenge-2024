{
 "cells": [
  {
   "cell_type": "code",
   "execution_count": 1,
   "id": "b89b7f30-dc2f-4aa4-889d-926dbb3210e3",
   "metadata": {},
   "outputs": [
    {
     "name": "stderr",
     "output_type": "stream",
     "text": [
      "/Users/aleksandryusov/.pyenv/versions/base/lib/python3.10/site-packages/lightfm/_lightfm_fast.py:9: UserWarning: LightFM was compiled without OpenMP support. Only a single thread will be used.\n",
      "  warnings.warn(\n"
     ]
    }
   ],
   "source": [
    "import os\n",
    "import threadpoolctl\n",
    "import warnings\n",
    "from pathlib import Path\n",
    "import re\n",
    "import sys\n",
    "sys.path.append(\"../\")\n",
    "\n",
    "import pandas as pd\n",
    "import numpy as np\n",
    "import seaborn as sns\n",
    "from matplotlib import pyplot as plt\n",
    "import polars as pl\n",
    "from sklearn.metrics import roc_auc_score\n",
    "from sklearn.model_selection import train_test_split\n",
    "\n",
    "from rectools.metrics import MAP, calc_metrics, MeanInvUserFreq, Serendipity, HitRate\n",
    "from rectools.models import ImplicitALSWrapperModel\n",
    "from rectools import Columns\n",
    "from rectools.dataset import Dataset\n",
    "from implicit.als import AlternatingLeastSquares\n",
    "\n",
    "\n",
    "from src.metrics import calc_user_auc\n",
    "\n",
    "warnings.filterwarnings('ignore')\n",
    "sns.set_theme(style=\"whitegrid\")\n",
    "\n",
    "# For implicit ALS\n",
    "os.environ[\"OPENBLAS_NUM_THREADS\"] = \"1\"\n",
    "threadpoolctl.threadpool_limits(1, \"blas\")\n",
    "\n",
    "%load_ext autoreload\n",
    "%autoreload 2"
   ]
  },
  {
   "cell_type": "markdown",
   "id": "61560111-42a2-4246-9121-8186c872e6dc",
   "metadata": {},
   "source": [
    "# Data"
   ]
  },
  {
   "cell_type": "code",
   "execution_count": 25,
   "id": "e299d6ae-6d9b-4616-ade0-d84243a426dd",
   "metadata": {},
   "outputs": [],
   "source": [
    "from src.data.preprocessing import load_data, prepare_train_for_als_item_like, prepare_train_for_als_item_like_book_share"
   ]
  },
  {
   "cell_type": "markdown",
   "id": "6667b974-524c-4b28-bba4-73443b79289a",
   "metadata": {},
   "source": [
    "## Load"
   ]
  },
  {
   "cell_type": "code",
   "execution_count": 3,
   "id": "83a7021f-5b1b-4061-aa91-ff9b3df0046f",
   "metadata": {},
   "outputs": [],
   "source": [
    "datasets = load_data(Path(\"../data/processed/\"))\n",
    "test_pairs = pl.read_csv(\"../data/raw/test_pairs.csv.csv\").with_columns(\n",
    "    pl.col(\"item_id\").cast(pl.UInt32),\n",
    "    pl.col(\"user_id\").cast(pl.UInt32)\n",
    ")\n",
    "items_meta_df = pl.read_parquet(\"../data/raw/items_meta.parquet\")\n",
    "users_meta_df = pl.read_parquet(\"../data/raw/users_meta.parquet\")"
   ]
  },
  {
   "cell_type": "markdown",
   "id": "f091f5b8-ad45-41e2-8fbf-734a4fee89bb",
   "metadata": {},
   "source": [
    "## targets"
   ]
  },
  {
   "cell_type": "code",
   "execution_count": 4,
   "id": "85d44951-c1ea-47d7-996b-dec98424b902",
   "metadata": {},
   "outputs": [],
   "source": [
    "train_als_like_item = prepare_train_for_als_item_like(datasets[\"train_df_als\"])\n",
    "train_als_like_book_share_item = prepare_train_for_als_item_like_book_share(datasets[\"train_df_als\"])"
   ]
  },
  {
   "cell_type": "markdown",
   "id": "1fa8e5af-f3f3-47d9-a4d3-35d87b5b6842",
   "metadata": {},
   "source": [
    "## item features"
   ]
  },
  {
   "cell_type": "code",
   "execution_count": 5,
   "id": "3e882db8-1c3d-42b7-bf72-e8356e7756b0",
   "metadata": {},
   "outputs": [],
   "source": [
    "from src.data.item_stats import get_item_stats\n",
    "\n",
    "item_stats = get_item_stats(datasets[\"train_df_als\"], items_meta_df, column=\"item_id\")\n",
    "source_stats = get_item_stats(datasets[\"train_df_als\"], items_meta_df, column=\"source_id\")"
   ]
  },
  {
   "cell_type": "code",
   "execution_count": 66,
   "id": "7d0257a9-90d2-41d1-8a62-efcb0dd0a4a0",
   "metadata": {},
   "outputs": [
    {
     "data": {
      "text/html": [
       "<div><style>\n",
       ".dataframe > thead > tr,\n",
       ".dataframe > tbody > tr {\n",
       "  text-align: right;\n",
       "  white-space: pre-wrap;\n",
       "}\n",
       "</style>\n",
       "<small>shape: (139_262_288, 9)</small><table border=\"1\" class=\"dataframe\"><thead><tr><th>user_id</th><th>item_id</th><th>timespent</th><th>like</th><th>dislike</th><th>share</th><th>bookmarks</th><th>rn</th><th>max_rn</th></tr><tr><td>u32</td><td>u32</td><td>u8</td><td>u8</td><td>u8</td><td>u8</td><td>u8</td><td>u32</td><td>u32</td></tr></thead><tbody><tr><td>3810</td><td>138979</td><td>6</td><td>0</td><td>0</td><td>0</td><td>0</td><td>2346</td><td>2346</td></tr><tr><td>101874</td><td>331160</td><td>6</td><td>0</td><td>0</td><td>0</td><td>0</td><td>486</td><td>486</td></tr><tr><td>150332</td><td>73709</td><td>11</td><td>0</td><td>0</td><td>0</td><td>0</td><td>1536</td><td>1536</td></tr><tr><td>4982</td><td>189745</td><td>5</td><td>0</td><td>0</td><td>0</td><td>0</td><td>1779</td><td>1779</td></tr><tr><td>149601</td><td>289643</td><td>1</td><td>0</td><td>0</td><td>1</td><td>0</td><td>2514</td><td>2514</td></tr><tr><td>&hellip;</td><td>&hellip;</td><td>&hellip;</td><td>&hellip;</td><td>&hellip;</td><td>&hellip;</td><td>&hellip;</td><td>&hellip;</td><td>&hellip;</td></tr><tr><td>44453</td><td>273545</td><td>1</td><td>0</td><td>0</td><td>0</td><td>0</td><td>16</td><td>731</td></tr><tr><td>44453</td><td>272745</td><td>13</td><td>0</td><td>0</td><td>0</td><td>0</td><td>15</td><td>731</td></tr><tr><td>48427</td><td>330345</td><td>13</td><td>1</td><td>0</td><td>0</td><td>0</td><td>1</td><td>17</td></tr><tr><td>24982</td><td>17293</td><td>17</td><td>0</td><td>0</td><td>0</td><td>0</td><td>2</td><td>9</td></tr><tr><td>24982</td><td>318363</td><td>16</td><td>0</td><td>0</td><td>0</td><td>0</td><td>1</td><td>9</td></tr></tbody></table></div>"
      ],
      "text/plain": [
       "shape: (139_262_288, 9)\n",
       "┌─────────┬─────────┬───────────┬──────┬───┬───────┬───────────┬──────┬────────┐\n",
       "│ user_id ┆ item_id ┆ timespent ┆ like ┆ … ┆ share ┆ bookmarks ┆ rn   ┆ max_rn │\n",
       "│ ---     ┆ ---     ┆ ---       ┆ ---  ┆   ┆ ---   ┆ ---       ┆ ---  ┆ ---    │\n",
       "│ u32     ┆ u32     ┆ u8        ┆ u8   ┆   ┆ u8    ┆ u8        ┆ u32  ┆ u32    │\n",
       "╞═════════╪═════════╪═══════════╪══════╪═══╪═══════╪═══════════╪══════╪════════╡\n",
       "│ 3810    ┆ 138979  ┆ 6         ┆ 0    ┆ … ┆ 0     ┆ 0         ┆ 2346 ┆ 2346   │\n",
       "│ 101874  ┆ 331160  ┆ 6         ┆ 0    ┆ … ┆ 0     ┆ 0         ┆ 486  ┆ 486    │\n",
       "│ 150332  ┆ 73709   ┆ 11        ┆ 0    ┆ … ┆ 0     ┆ 0         ┆ 1536 ┆ 1536   │\n",
       "│ 4982    ┆ 189745  ┆ 5         ┆ 0    ┆ … ┆ 0     ┆ 0         ┆ 1779 ┆ 1779   │\n",
       "│ 149601  ┆ 289643  ┆ 1         ┆ 0    ┆ … ┆ 1     ┆ 0         ┆ 2514 ┆ 2514   │\n",
       "│ …       ┆ …       ┆ …         ┆ …    ┆ … ┆ …     ┆ …         ┆ …    ┆ …      │\n",
       "│ 44453   ┆ 273545  ┆ 1         ┆ 0    ┆ … ┆ 0     ┆ 0         ┆ 16   ┆ 731    │\n",
       "│ 44453   ┆ 272745  ┆ 13        ┆ 0    ┆ … ┆ 0     ┆ 0         ┆ 15   ┆ 731    │\n",
       "│ 48427   ┆ 330345  ┆ 13        ┆ 1    ┆ … ┆ 0     ┆ 0         ┆ 1    ┆ 17     │\n",
       "│ 24982   ┆ 17293   ┆ 17        ┆ 0    ┆ … ┆ 0     ┆ 0         ┆ 2    ┆ 9      │\n",
       "│ 24982   ┆ 318363  ┆ 16        ┆ 0    ┆ … ┆ 0     ┆ 0         ┆ 1    ┆ 9      │\n",
       "└─────────┴─────────┴───────────┴──────┴───┴───────┴───────────┴──────┴────────┘"
      ]
     },
     "execution_count": 66,
     "metadata": {},
     "output_type": "execute_result"
    }
   ],
   "source": [
    "datasets[\"train_df_als\"]"
   ]
  },
  {
   "cell_type": "code",
   "execution_count": 65,
   "id": "fb81f24f-1c11-40fc-a0d0-8fe280026330",
   "metadata": {},
   "outputs": [
    {
     "data": {
      "text/html": [
       "<div><style>\n",
       ".dataframe > thead > tr,\n",
       ".dataframe > tbody > tr {\n",
       "  text-align: right;\n",
       "  white-space: pre-wrap;\n",
       "}\n",
       "</style>\n",
       "<small>shape: (12_394, 8)</small><table border=\"1\" class=\"dataframe\"><thead><tr><th>item_id</th><th>n_users</th><th>mean_like</th><th>mean_dislike</th><th>mean_share</th><th>mean_bookmarks</th><th>mean_timespent_ratio</th><th>like_dislike_ratio</th></tr><tr><td>u32</td><td>u32</td><td>f64</td><td>f64</td><td>f64</td><td>f64</td><td>f64</td><td>f64</td></tr></thead><tbody><tr><td>189573</td><td>27</td><td>0.0</td><td>0.0</td><td>0.0</td><td>0.0</td><td>0.853801</td><td>1.0</td></tr><tr><td>113295</td><td>26</td><td>0.0</td><td>0.0</td><td>0.0</td><td>0.0</td><td>0.733974</td><td>1.0</td></tr><tr><td>241488</td><td>31</td><td>0.0</td><td>0.0</td><td>0.032258</td><td>0.0</td><td>0.883871</td><td>1.0</td></tr><tr><td>93332</td><td>28</td><td>0.035714</td><td>0.0</td><td>0.0</td><td>0.0</td><td>0.56015</td><td>1.0</td></tr><tr><td>35403</td><td>25</td><td>0.0</td><td>0.0</td><td>0.04</td><td>0.0</td><td>0.762759</td><td>1.0</td></tr><tr><td>&hellip;</td><td>&hellip;</td><td>&hellip;</td><td>&hellip;</td><td>&hellip;</td><td>&hellip;</td><td>&hellip;</td><td>&hellip;</td></tr><tr><td>56196</td><td>52</td><td>0.019231</td><td>0.0</td><td>0.0</td><td>0.0</td><td>0.411193</td><td>1.0</td></tr><tr><td>11510</td><td>45</td><td>0.044444</td><td>0.0</td><td>0.0</td><td>0.0</td><td>0.961353</td><td>1.0</td></tr><tr><td>236834</td><td>31</td><td>0.032258</td><td>0.0</td><td>0.032258</td><td>0.0</td><td>1.346237</td><td>1.0</td></tr><tr><td>212569</td><td>111</td><td>0.0</td><td>0.0</td><td>0.018018</td><td>0.0</td><td>0.922297</td><td>1.0</td></tr><tr><td>333167</td><td>23</td><td>0.0</td><td>0.0</td><td>0.0</td><td>0.0</td><td>0.785507</td><td>1.0</td></tr></tbody></table></div>"
      ],
      "text/plain": [
       "shape: (12_394, 8)\n",
       "┌─────────┬─────────┬───────────┬─────────────┬────────────┬─────────────┬────────────┬────────────┐\n",
       "│ item_id ┆ n_users ┆ mean_like ┆ mean_dislik ┆ mean_share ┆ mean_bookma ┆ mean_times ┆ like_disli │\n",
       "│ ---     ┆ ---     ┆ ---       ┆ e           ┆ ---        ┆ rks         ┆ pent_ratio ┆ ke_ratio   │\n",
       "│ u32     ┆ u32     ┆ f64       ┆ ---         ┆ f64        ┆ ---         ┆ ---        ┆ ---        │\n",
       "│         ┆         ┆           ┆ f64         ┆            ┆ f64         ┆ f64        ┆ f64        │\n",
       "╞═════════╪═════════╪═══════════╪═════════════╪════════════╪═════════════╪════════════╪════════════╡\n",
       "│ 189573  ┆ 27      ┆ 0.0       ┆ 0.0         ┆ 0.0        ┆ 0.0         ┆ 0.853801   ┆ 1.0        │\n",
       "│ 113295  ┆ 26      ┆ 0.0       ┆ 0.0         ┆ 0.0        ┆ 0.0         ┆ 0.733974   ┆ 1.0        │\n",
       "│ 241488  ┆ 31      ┆ 0.0       ┆ 0.0         ┆ 0.032258   ┆ 0.0         ┆ 0.883871   ┆ 1.0        │\n",
       "│ 93332   ┆ 28      ┆ 0.035714  ┆ 0.0         ┆ 0.0        ┆ 0.0         ┆ 0.56015    ┆ 1.0        │\n",
       "│ 35403   ┆ 25      ┆ 0.0       ┆ 0.0         ┆ 0.04       ┆ 0.0         ┆ 0.762759   ┆ 1.0        │\n",
       "│ …       ┆ …       ┆ …         ┆ …           ┆ …          ┆ …           ┆ …          ┆ …          │\n",
       "│ 56196   ┆ 52      ┆ 0.019231  ┆ 0.0         ┆ 0.0        ┆ 0.0         ┆ 0.411193   ┆ 1.0        │\n",
       "│ 11510   ┆ 45      ┆ 0.044444  ┆ 0.0         ┆ 0.0        ┆ 0.0         ┆ 0.961353   ┆ 1.0        │\n",
       "│ 236834  ┆ 31      ┆ 0.032258  ┆ 0.0         ┆ 0.032258   ┆ 0.0         ┆ 1.346237   ┆ 1.0        │\n",
       "│ 212569  ┆ 111     ┆ 0.0       ┆ 0.0         ┆ 0.018018   ┆ 0.0         ┆ 0.922297   ┆ 1.0        │\n",
       "│ 333167  ┆ 23      ┆ 0.0       ┆ 0.0         ┆ 0.0        ┆ 0.0         ┆ 0.785507   ┆ 1.0        │\n",
       "└─────────┴─────────┴───────────┴─────────────┴────────────┴─────────────┴────────────┴────────────┘"
      ]
     },
     "execution_count": 65,
     "metadata": {},
     "output_type": "execute_result"
    }
   ],
   "source": [
    "max_timespent_ratio = 5\n",
    "min_users_for_stats = 20\n",
    "positive_threshold_for_ratio = 10\n",
    "ratio_default_value = 1.0\n",
    "\n",
    "\n",
    "(\n",
    "    datasets[\"train_df_als\"]\n",
    "    .sample(1000000)\n",
    "    .drop([\"rn\", \"max_rn\"])\n",
    "    .join(items_meta_df.select(\"item_id\", \"source_id\", \"duration\"), how=\"left\", on=\"item_id\")\n",
    "    .with_columns(\n",
    "        (pl.col(\"timespent\") / pl.col(\"duration\")).clip(0, max_timespent_ratio).alias(\"timespent_ratio\")\n",
    "    )\n",
    "    .group_by(\"item_id\")\n",
    "    .agg(\n",
    "        pl.first().count().alias(\"n_users\"),\n",
    "        pl.col(\"like\").mean().alias(\"mean_like\"),\n",
    "        pl.col(\"like\").sum().alias(\"sum_like\"),\n",
    "        pl.col(\"dislike\").mean().alias(\"mean_dislike\"),\n",
    "        pl.col(\"dislike\").sum().alias(\"sum_dislike\"),\n",
    "        pl.col(\"share\").mean().alias(\"mean_share\"),\n",
    "        pl.col(\"share\").sum().alias(\"sum_share\"),\n",
    "        pl.col(\"bookmarks\").mean().alias(\"mean_bookmarks\"),\n",
    "        pl.col(\"bookmarks\").sum().alias(\"sum_bookmarks\"),\n",
    "        pl.col(\"timespent_ratio\").mean().alias(\"mean_timespent_ratio\"),\n",
    "    )\n",
    "    .filter(pl.col(\"n_users\") >= min_users_for_stats)\n",
    "    .with_columns(\n",
    "        (pl.col(\"sum_like\") + pl.col(\"sum_share\") + pl.col(\"sum_bookmarks\")).alias(\"sum_positive\")\n",
    "    )\n",
    "    .with_columns(\n",
    "        pl.when(pl.col(\"sum_positive\") >= positive_threshold_for_ratio).then(\n",
    "            ((pl.col(\"sum_positive\") - pl.col(\"sum_dislike\")) / (pl.col(\"sum_positive\") + pl.col(\"sum_dislike\")))\n",
    "        ).otherwise(None).alias(\"like_dislike_ratio\")\n",
    "    )\n",
    "    .drop(\n",
    "        \"sum_positive\",\n",
    "        \"sum_bookmarks\",\n",
    "        \"sum_share\",\n",
    "        \"sum_dislike\",\n",
    "        \"sum_like\",\n",
    "    )\n",
    "    .with_columns(\n",
    "        pl.col(\"like_dislike_ratio\").fill_null(ratio_default_value)\n",
    "    )\n",
    ")"
   ]
  },
  {
   "cell_type": "markdown",
   "id": "663feeef-d740-40d3-bb2d-793df6073c74",
   "metadata": {},
   "source": [
    "# Модели"
   ]
  },
  {
   "cell_type": "markdown",
   "id": "24e24a08-4d81-42f7-9884-d79751529161",
   "metadata": {},
   "source": [
    "## ALS"
   ]
  },
  {
   "cell_type": "code",
   "execution_count": 8,
   "id": "11009488-2257-4fe0-9b3c-729a1df09084",
   "metadata": {},
   "outputs": [],
   "source": [
    "from src.models.als import ALSModel\n",
    "from src.models.als_item import ALSSource\n",
    "\n",
    "\n",
    "# alpha = 10\n",
    "# regularization = 0.01\n",
    "# n_factors = 64\n",
    "# iterations = 30\n",
    "\n",
    "iterations = 49\n",
    "alpha = 44\n",
    "regularization = 0.07702668794141683\n",
    "n_factors = 96\n",
    "\n",
    "\n",
    "models_like = {\n",
    "    \"als_item_like\": ALSModel(\n",
    "        iterations=iterations,\n",
    "        alpha=alpha,\n",
    "        regularization=regularization,\n",
    "        n_factors=n_factors,\n",
    "        predict_col_name=\"predict_als_item_like\"\n",
    "    ),\n",
    "    \"als_source_like\": ALSSource(\n",
    "        items_meta_df=items_meta_df,\n",
    "        iterations=iterations,\n",
    "        alpha=alpha,\n",
    "        regularization=regularization,\n",
    "        n_factors=n_factors,\n",
    "        predict_col_name=\"predict_als_source_like\"\n",
    "    ),\n",
    "}\n",
    "\n",
    "models_like_book_share = {\n",
    "    \"als_item_like_book_share\": ALSModel(\n",
    "        iterations=iterations,\n",
    "        alpha=alpha,\n",
    "        regularization=regularization,\n",
    "        n_factors=n_factors,\n",
    "        predict_col_name=\"predict_als_item_like_book_share\"\n",
    "    ),\n",
    "    \"als_source_like_book_share\": ALSSource(\n",
    "        items_meta_df=items_meta_df,\n",
    "        iterations=iterations,\n",
    "        alpha=alpha,\n",
    "        regularization=regularization,\n",
    "        n_factors=n_factors,\n",
    "        predict_col_name=\"predict_als_source_like_book_share\"\n",
    "    ),\n",
    "}\n"
   ]
  },
  {
   "cell_type": "code",
   "execution_count": 9,
   "id": "2cd12ff8-6450-42d4-81d7-4053eeb94608",
   "metadata": {},
   "outputs": [
    {
     "name": "stdout",
     "output_type": "stream",
     "text": [
      "als_item_like\n"
     ]
    },
    {
     "name": "stderr",
     "output_type": "stream",
     "text": [
      "[15:19:49] {/Users/aleksandryusov/code/competitions/vk/notebooks/../src/models/als.py:126} INFO - ALS: Percent of cold pairs: 0.18048312020776922\n",
      "[15:19:50] {/Users/aleksandryusov/code/competitions/vk/notebooks/../src/models/als.py:126} INFO - ALS: Percent of cold pairs: 0.2068213006752139\n",
      "[15:19:51] {/Users/aleksandryusov/code/competitions/vk/notebooks/../src/models/als.py:126} INFO - ALS: Percent of cold pairs: 0.05022294455991106\n"
     ]
    },
    {
     "name": "stdout",
     "output_type": "stream",
     "text": [
      "als_source_like\n"
     ]
    },
    {
     "name": "stderr",
     "output_type": "stream",
     "text": [
      "[15:21:56] {/Users/aleksandryusov/code/competitions/vk/notebooks/../src/models/als.py:126} INFO - ALS: Percent of cold pairs: 0.16520283961486326\n",
      "[15:21:57] {/Users/aleksandryusov/code/competitions/vk/notebooks/../src/models/als.py:126} INFO - ALS: Percent of cold pairs: 0.19236535981902764\n",
      "[15:21:58] {/Users/aleksandryusov/code/competitions/vk/notebooks/../src/models/als.py:126} INFO - ALS: Percent of cold pairs: 0.03530611025788761\n"
     ]
    },
    {
     "name": "stdout",
     "output_type": "stream",
     "text": [
      "als_item_like_book_share\n"
     ]
    },
    {
     "name": "stderr",
     "output_type": "stream",
     "text": [
      "[15:26:54] {/Users/aleksandryusov/code/competitions/vk/notebooks/../src/models/als.py:126} INFO - ALS: Percent of cold pairs: 0.05239554201945907\n",
      "[15:26:55] {/Users/aleksandryusov/code/competitions/vk/notebooks/../src/models/als.py:126} INFO - ALS: Percent of cold pairs: 0.07872775484541156\n",
      "[15:26:56] {/Users/aleksandryusov/code/competitions/vk/notebooks/../src/models/als.py:126} INFO - ALS: Percent of cold pairs: 0.021188191792740105\n"
     ]
    },
    {
     "name": "stdout",
     "output_type": "stream",
     "text": [
      "als_source_like_book_share\n"
     ]
    },
    {
     "name": "stderr",
     "output_type": "stream",
     "text": [
      "[15:29:29] {/Users/aleksandryusov/code/competitions/vk/notebooks/../src/models/als.py:126} INFO - ALS: Percent of cold pairs: 0.0404250727061275\n",
      "[15:29:30] {/Users/aleksandryusov/code/competitions/vk/notebooks/../src/models/als.py:126} INFO - ALS: Percent of cold pairs: 0.06660030080414664\n",
      "[15:29:31] {/Users/aleksandryusov/code/competitions/vk/notebooks/../src/models/als.py:126} INFO - ALS: Percent of cold pairs: 0.010929182877377973\n"
     ]
    }
   ],
   "source": [
    "from collections import defaultdict\n",
    "\n",
    "\n",
    "predicts = {\n",
    "    \"train_df_cb\": datasets[\"train_df_cb\"].select(\"user_id\", \"item_id\"),\n",
    "    \"test_df\": datasets[\"test_df\"].select(\"user_id\", \"item_id\"),\n",
    "    \"test_pairs\": test_pairs.select(\"user_id\", \"item_id\"),\n",
    "}\n",
    "\n",
    "for model_name, model in models_like.items():\n",
    "    print(model_name)\n",
    "    model.fit(train_als_like_item)\n",
    "\n",
    "    predicts[\"train_df_cb\"] = (\n",
    "        predicts[\"train_df_cb\"]\n",
    "        .join(model.predict_proba(datasets[\"train_df_cb\"].select(\"user_id\", \"item_id\")), how=\"left\", on=[\"user_id\", \"item_id\"])\n",
    "    )\n",
    "\n",
    "    predicts[\"test_df\"] = (\n",
    "        predicts[\"test_df\"]\n",
    "        .join(model.predict_proba(datasets[\"test_df\"].select(\"user_id\", \"item_id\")), how=\"left\", on=[\"user_id\", \"item_id\"])\n",
    "    )\n",
    "\n",
    "    predicts[\"test_pairs\"] = (\n",
    "        predicts[\"test_pairs\"]\n",
    "        .join(model.predict_proba(test_pairs.select(\"user_id\", \"item_id\")), how=\"left\", on=[\"user_id\", \"item_id\"])\n",
    "    )\n",
    "\n",
    "    del model\n",
    "\n",
    "for model_name, model in models_like_book_share.items():\n",
    "    print(model_name)\n",
    "    model.fit(train_als_like_book_share_item)\n",
    "\n",
    "    predicts[\"train_df_cb\"] = (\n",
    "        predicts[\"train_df_cb\"]\n",
    "        .join(model.predict_proba(datasets[\"train_df_cb\"].select(\"user_id\", \"item_id\")), how=\"left\", on=[\"user_id\", \"item_id\"])\n",
    "    )\n",
    "\n",
    "    predicts[\"test_df\"] = (\n",
    "        predicts[\"test_df\"]\n",
    "        .join(model.predict_proba(datasets[\"test_df\"].select(\"user_id\", \"item_id\")), how=\"left\", on=[\"user_id\", \"item_id\"])\n",
    "    )\n",
    "\n",
    "    predicts[\"test_pairs\"] = (\n",
    "        predicts[\"test_pairs\"]\n",
    "        .join(model.predict_proba(test_pairs.select(\"user_id\", \"item_id\")), how=\"left\", on=[\"user_id\", \"item_id\"])\n",
    "    )\n",
    "\n",
    "    del model"
   ]
  },
  {
   "cell_type": "markdown",
   "id": "cc4acaf5-a2d2-42c2-aee6-72c2adedb43a",
   "metadata": {
    "jp-MarkdownHeadingCollapsed": true
   },
   "source": [
    "### Optimize ALS params"
   ]
  },
  {
   "cell_type": "code",
   "execution_count": null,
   "id": "32fe332f-176c-4fdc-bbb1-f9a406050595",
   "metadata": {
    "scrolled": true
   },
   "outputs": [
    {
     "name": "stderr",
     "output_type": "stream",
     "text": [
      "[I 2024-11-09 14:24:19,788] A new study created in memory with name: no-name-9cbaf98c-2cf2-4252-98bc-ad4eaa8ace7d\n",
      "[14:24:50] {/Users/aleksandryusov/code/competitions/vk/notebooks/../src/models/als.py:126} INFO - ALS: Percent of cold pairs: 0.18048312020776922\n",
      "[I 2024-11-09 14:24:50,678] Trial 0 finished with value: 0.5628431499987698 and parameters: {'iterations': 28, 'alpha': 39, 'regularization': 0.14452766667789207, 'n_factors': 16.0}. Best is trial 0 with value: 0.5628431499987698.\n",
      "[14:25:28] {/Users/aleksandryusov/code/competitions/vk/notebooks/../src/models/als.py:126} INFO - ALS: Percent of cold pairs: 0.18048312020776922\n",
      "[I 2024-11-09 14:25:28,176] Trial 1 finished with value: 0.5791588104692537 and parameters: {'iterations': 15, 'alpha': 35, 'regularization': 0.09074362571076555, 'n_factors': 40.0}. Best is trial 1 with value: 0.5791588104692537.\n",
      "[14:28:05] {/Users/aleksandryusov/code/competitions/vk/notebooks/../src/models/als.py:126} INFO - ALS: Percent of cold pairs: 0.18048312020776922\n",
      "[I 2024-11-09 14:28:05,464] Trial 2 finished with value: 0.5844789676909783 and parameters: {'iterations': 46, 'alpha': 37, 'regularization': 0.21237252400494785, 'n_factors': 56.0}. Best is trial 2 with value: 0.5844789676909783.\n",
      "[14:32:52] {/Users/aleksandryusov/code/competitions/vk/notebooks/../src/models/als.py:126} INFO - ALS: Percent of cold pairs: 0.18048312020776922\n",
      "[I 2024-11-09 14:32:52,659] Trial 3 finished with value: 0.5893216239551762 and parameters: {'iterations': 49, 'alpha': 44, 'regularization': 0.07702668794141683, 'n_factors': 96.0}. Best is trial 3 with value: 0.5893216239551762.\n",
      "[14:35:55] {/Users/aleksandryusov/code/competitions/vk/notebooks/../src/models/als.py:126} INFO - ALS: Percent of cold pairs: 0.18048312020776922\n",
      "[I 2024-11-09 14:35:55,339] Trial 4 finished with value: 0.5858205787450032 and parameters: {'iterations': 43, 'alpha': 32, 'regularization': 0.18307615600204116, 'n_factors': 72.0}. Best is trial 3 with value: 0.5893216239551762.\n",
      "[14:37:09] {/Users/aleksandryusov/code/competitions/vk/notebooks/../src/models/als.py:126} INFO - ALS: Percent of cold pairs: 0.18048312020776922\n",
      "[I 2024-11-09 14:37:09,257] Trial 5 finished with value: 0.574531726247621 and parameters: {'iterations': 36, 'alpha': 28, 'regularization': 0.07308447678013086, 'n_factors': 32.0}. Best is trial 3 with value: 0.5893216239551762.\n",
      "[14:38:18] {/Users/aleksandryusov/code/competitions/vk/notebooks/../src/models/als.py:126} INFO - ALS: Percent of cold pairs: 0.18048312020776922\n",
      "[I 2024-11-09 14:38:18,863] Trial 6 finished with value: 0.5660299081426912 and parameters: {'iterations': 46, 'alpha': 15, 'regularization': 0.06278183260272568, 'n_factors': 24.0}. Best is trial 3 with value: 0.5893216239551762.\n",
      "[14:39:23] {/Users/aleksandryusov/code/competitions/vk/notebooks/../src/models/als.py:126} INFO - ALS: Percent of cold pairs: 0.18048312020776922\n",
      "[I 2024-11-09 14:39:23,854] Trial 7 finished with value: 0.5689502759913708 and parameters: {'iterations': 42, 'alpha': 30, 'regularization': 0.07326177891815247, 'n_factors': 24.0}. Best is trial 3 with value: 0.5893216239551762.\n",
      "[14:40:09] {/Users/aleksandryusov/code/competitions/vk/notebooks/../src/models/als.py:126} INFO - ALS: Percent of cold pairs: 0.18048312020776922\n",
      "[I 2024-11-09 14:40:09,978] Trial 8 finished with value: 0.5722985703727159 and parameters: {'iterations': 22, 'alpha': 18, 'regularization': 0.08709069414344058, 'n_factors': 32.0}. Best is trial 3 with value: 0.5893216239551762.\n",
      "[14:42:00] {/Users/aleksandryusov/code/competitions/vk/notebooks/../src/models/als.py:126} INFO - ALS: Percent of cold pairs: 0.18048312020776922\n",
      "[I 2024-11-09 14:42:01,030] Trial 9 finished with value: 0.5773291509138155 and parameters: {'iterations': 45, 'alpha': 25, 'regularization': 0.2749542599636965, 'n_factors': 40.0}. Best is trial 3 with value: 0.5893216239551762.\n",
      "[14:45:07] {/Users/aleksandryusov/code/competitions/vk/notebooks/../src/models/als.py:126} INFO - ALS: Percent of cold pairs: 0.18048312020776922\n",
      "[I 2024-11-09 14:45:08,137] Trial 10 finished with value: 0.5888871768364459 and parameters: {'iterations': 34, 'alpha': 50, 'regularization': 0.017652363568222085, 'n_factors': 88.0}. Best is trial 3 with value: 0.5893216239551762.\n",
      "[14:48:27] {/Users/aleksandryusov/code/competitions/vk/notebooks/../src/models/als.py:126} INFO - ALS: Percent of cold pairs: 0.18048312020776922\n",
      "[I 2024-11-09 14:48:27,630] Trial 11 finished with value: 0.5892844858236037 and parameters: {'iterations': 34, 'alpha': 46, 'regularization': 0.018865267773039478, 'n_factors': 96.0}. Best is trial 3 with value: 0.5893216239551762.\n",
      "[14:50:52] {/Users/aleksandryusov/code/competitions/vk/notebooks/../src/models/als.py:126} INFO - ALS: Percent of cold pairs: 0.18048312020776922\n",
      "[I 2024-11-09 14:50:52,777] Trial 12 finished with value: 0.5656763588666801 and parameters: {'iterations': 27, 'alpha': 1, 'regularization': 0.018190786837079368, 'n_factors': 96.0}. Best is trial 3 with value: 0.5893216239551762.\n",
      "[14:54:56] {/Users/aleksandryusov/code/competitions/vk/notebooks/../src/models/als.py:126} INFO - ALS: Percent of cold pairs: 0.18048312020776922\n",
      "[I 2024-11-09 14:54:56,965] Trial 13 finished with value: 0.5885470130759669 and parameters: {'iterations': 50, 'alpha': 49, 'regularization': 0.03428202792445018, 'n_factors': 80.0}. Best is trial 3 with value: 0.5893216239551762.\n",
      "[14:57:05] {/Users/aleksandryusov/code/competitions/vk/notebooks/../src/models/als.py:126} INFO - ALS: Percent of cold pairs: 0.18048312020776922\n",
      "[I 2024-11-09 14:57:05,993] Trial 14 finished with value: 0.5861201562370424 and parameters: {'iterations': 37, 'alpha': 43, 'regularization': 0.45309904685862806, 'n_factors': 64.0}. Best is trial 3 with value: 0.5893216239551762.\n",
      "[14:57:59] {/Users/aleksandryusov/code/competitions/vk/notebooks/../src/models/als.py:126} INFO - ALS: Percent of cold pairs: 0.18048312020776922\n",
      "[I 2024-11-09 14:57:59,937] Trial 15 finished with value: 0.587940711179731 and parameters: {'iterations': 10, 'alpha': 44, 'regularization': 0.011209677385434904, 'n_factors': 96.0}. Best is trial 3 with value: 0.5893216239551762.\n",
      "[14:59:36] {/Users/aleksandryusov/code/competitions/vk/notebooks/../src/models/als.py:126} INFO - ALS: Percent of cold pairs: 0.18048312020776922\n",
      "[I 2024-11-09 14:59:36,334] Trial 16 finished with value: 0.5881782197202416 and parameters: {'iterations': 22, 'alpha': 43, 'regularization': 0.0395973602256291, 'n_factors': 80.0}. Best is trial 3 with value: 0.5893216239551762.\n",
      "[15:01:33] {/Users/aleksandryusov/code/competitions/vk/notebooks/../src/models/als.py:126} INFO - ALS: Percent of cold pairs: 0.18048312020776922\n",
      "[I 2024-11-09 15:01:33,705] Trial 17 finished with value: 0.5813729815508459 and parameters: {'iterations': 39, 'alpha': 21, 'regularization': 0.03792743867384492, 'n_factors': 56.0}. Best is trial 3 with value: 0.5893216239551762.\n",
      "[15:04:09] {/Users/aleksandryusov/code/competitions/vk/notebooks/../src/models/als.py:126} INFO - ALS: Percent of cold pairs: 0.18048312020776922\n",
      "[I 2024-11-09 15:04:09,819] Trial 18 finished with value: 0.5818640215909984 and parameters: {'iterations': 32, 'alpha': 10, 'regularization': 0.02302143064555403, 'n_factors': 88.0}. Best is trial 3 with value: 0.5893216239551762.\n",
      "[15:07:18] {/Users/aleksandryusov/code/competitions/vk/notebooks/../src/models/als.py:126} INFO - ALS: Percent of cold pairs: 0.18048312020776922\n",
      "[I 2024-11-09 15:07:18,728] Trial 19 finished with value: 0.5870560426680551 and parameters: {'iterations': 50, 'alpha': 46, 'regularization': 0.011380786294268676, 'n_factors': 72.0}. Best is trial 3 with value: 0.5893216239551762.\n"
     ]
    }
   ],
   "source": [
    "import optuna\n",
    "\n",
    "\n",
    "def objective(trial):\n",
    "    iterations = trial.suggest_int('iterations', 10, 50)\n",
    "    alpha = trial.suggest_int('alpha', 1, 50)\n",
    "    regularization = trial.suggest_float('regularization', 0.01, 0.5, log=True)\n",
    "    n_factors = int(trial.suggest_discrete_uniform('n_factors', 16, 96, 8))\n",
    "\n",
    "    model = ALSModel(\n",
    "        iterations=iterations,\n",
    "        alpha=alpha,\n",
    "        regularization=regularization,\n",
    "        n_factors=n_factors,\n",
    "        predict_col_name=\"predict_als_item_like\"\n",
    "    ).fit(train_als_like_item)\n",
    "    \n",
    "    predict_df = (\n",
    "        datasets[\"train_df_cb\"].select(\n",
    "            \"item_id\", \"user_id\",\n",
    "            (pl.col(\"like\").cast(int) - pl.col(\"dislike\").cast(int)).alias(\"target\"),\n",
    "        )\n",
    "        .join(model.predict_proba(datasets[\"train_df_cb\"].select(\"user_id\", \"item_id\")), how=\"left\", on=[\"user_id\", \"item_id\"])\n",
    "    )\n",
    "\n",
    "    del model\n",
    "    \n",
    "    return calc_user_auc(\n",
    "        df=predict_df,\n",
    "        predict_col=\"predict_als_item_like\", \n",
    "        target_col=\"target\"\n",
    "    )[\"rocauc\"].mean()\n",
    "\n",
    "\n",
    "study = optuna.create_study(direction=\"maximize\")\n",
    "study.optimize(objective, n_trials=50)\n",
    "study.best_params"
   ]
  },
  {
   "cell_type": "code",
   "execution_count": 73,
   "id": "3b045c32-be49-4280-8b85-fe6a36b053a5",
   "metadata": {},
   "outputs": [
    {
     "data": {
      "text/plain": [
       "{'iterations': 49,\n",
       " 'alpha': 44,\n",
       " 'regularization': 0.07702668794141683,\n",
       " 'n_factors': 96.0}"
      ]
     },
     "execution_count": 73,
     "metadata": {},
     "output_type": "execute_result"
    }
   ],
   "source": [
    "study.best_params"
   ]
  },
  {
   "cell_type": "markdown",
   "id": "8a7dd6dd-8db7-4ceb-9dee-893669bbbed9",
   "metadata": {},
   "source": [
    "## Embeddings"
   ]
  },
  {
   "cell_type": "code",
   "execution_count": 41,
   "id": "f37d455a-b593-4fcd-8e69-69456cb3a9e7",
   "metadata": {},
   "outputs": [],
   "source": [
    "def calc_mean_embedding(embeddings: pl.Series):\n",
    "    return embeddings.to_numpy().mean(axis=0).tolist()\n",
    "    \n",
    "\n",
    "user_liked_mean_embeddings = (\n",
    "    datasets[\"train_df_als\"]\n",
    "    .filter(pl.col(\"like\") + pl.col(\"share\") + pl.col(\"bookmarks\") >= 1)\n",
    "    .join(items_meta_df.select(\"item_id\", \"source_id\", \"embeddings\"), how=\"left\", on=\"item_id\")\n",
    "    .group_by(\"user_id\")\n",
    "    .agg(pl.col(\"embeddings\").map_elements(calc_mean_embedding))\n",
    "    .with_columns(pl.col(\"embeddings\").list.to_array(32))\n",
    ")\n",
    "\n",
    "user_disliked_mean_embeddings = (\n",
    "    datasets[\"train_df_als\"]\n",
    "    .filter(pl.col(\"dislike\") == 1)\n",
    "    .join(items_meta_df.select(\"item_id\", \"source_id\", \"embeddings\"), how=\"left\", on=\"item_id\")\n",
    "    .group_by(\"user_id\")\n",
    "    .agg(pl.col(\"embeddings\").map_elements(calc_mean_embedding))\n",
    "    .with_columns(pl.col(\"embeddings\").list.to_array(32))\n",
    ")"
   ]
  },
  {
   "cell_type": "code",
   "execution_count": 42,
   "id": "73c24ea6-7473-4599-bcff-55ce1ac5ce7d",
   "metadata": {},
   "outputs": [],
   "source": [
    "from tqdm.auto import tqdm\n",
    "\n",
    "\n",
    "def dot_product(x):\n",
    "    left_embeddings = x.struct[0].to_numpy()\n",
    "    right_embeddings = x.struct[1].to_numpy()\n",
    "\n",
    "    dot_product = (left_embeddings * right_embeddings).sum(axis=1)\n",
    "\n",
    "    return dot_product\n",
    "\n",
    "\n",
    "def get_emb_sim_features(df_pairs, items_meta_df, user_liked_mean_embeddings, user_disliked_mean_embeddings):\n",
    "    chunk_size = 100_000\n",
    "    sliced_result = []\n",
    "    for df_sample in tqdm(df_pairs.select(\"user_id\", \"item_id\").iter_slices(n_rows=chunk_size), total=df_pairs.shape[0] // chunk_size + 1):\n",
    "        df_sample = (\n",
    "            df_sample\n",
    "            .join(items_meta_df.select(\"item_id\", \"embeddings\"), on=\"item_id\", how=\"inner\")\n",
    "        )\n",
    "\n",
    "        liked_sim = (\n",
    "            df_sample\n",
    "            .join(user_liked_mean_embeddings, on=\"user_id\", how=\"inner\")\n",
    "            .with_columns(pl.struct(\"embeddings\", \"embeddings_right\").map_batches(dot_product).alias(\"liked_embeddings_sim\"))\n",
    "            .select(\"user_id\", \"item_id\", \"liked_embeddings_sim\")\n",
    "        )\n",
    "    \n",
    "        disliked_sim = (\n",
    "            df_sample\n",
    "            .join(user_disliked_mean_embeddings, on=\"user_id\", how=\"inner\")\n",
    "            .with_columns(pl.struct(\"embeddings\", \"embeddings_right\").map_batches(dot_product).alias(\"disliked_embeddings_sim\"))\n",
    "            .select(\"user_id\", \"item_id\", \"disliked_embeddings_sim\")\n",
    "        )\n",
    "    \n",
    "        sliced_result.append((\n",
    "            df_sample\n",
    "            .select(\"user_id\", \"item_id\")\n",
    "            .join(liked_sim, how=\"left\", on=[\"user_id\", \"item_id\"])\n",
    "            .join(disliked_sim, how=\"left\", on=[\"user_id\", \"item_id\"])\n",
    "        ))\n",
    "    \n",
    "    return (\n",
    "        pl.concat(sliced_result)\n",
    "        .with_columns(\n",
    "            pl.col(\"liked_embeddings_sim\").fill_null(pl.col(\"liked_embeddings_sim\").mean()),\n",
    "            pl.col(\"disliked_embeddings_sim\").fill_null(pl.col(\"disliked_embeddings_sim\").mean())\n",
    "        )\n",
    "    )"
   ]
  },
  {
   "cell_type": "code",
   "execution_count": 43,
   "id": "b2ea0b3f-60a7-4f6d-aa63-01e50a3d99c6",
   "metadata": {},
   "outputs": [
    {
     "data": {
      "application/vnd.jupyter.widget-view+json": {
       "model_id": "5941e94e50f2446d9891eb28d876ae28",
       "version_major": 2,
       "version_minor": 0
      },
      "text/plain": [
       "  0%|          | 0/28 [00:00<?, ?it/s]"
      ]
     },
     "metadata": {},
     "output_type": "display_data"
    },
    {
     "data": {
      "application/vnd.jupyter.widget-view+json": {
       "model_id": "6239ad76ff6d40dd99fcdf9b1395576f",
       "version_major": 2,
       "version_minor": 0
      },
      "text/plain": [
       "  0%|          | 0/37 [00:00<?, ?it/s]"
      ]
     },
     "metadata": {},
     "output_type": "display_data"
    },
    {
     "data": {
      "application/vnd.jupyter.widget-view+json": {
       "model_id": "7f2a8a99f7cd4be68e2805f819b7890f",
       "version_major": 2,
       "version_minor": 0
      },
      "text/plain": [
       "  0%|          | 0/17 [00:00<?, ?it/s]"
      ]
     },
     "metadata": {},
     "output_type": "display_data"
    }
   ],
   "source": [
    "train_df_cb_sim_features = get_emb_sim_features(datasets[\"train_df_cb\"], items_meta_df, user_liked_mean_embeddings, user_disliked_mean_embeddings)\n",
    "test_df_sim_features = get_emb_sim_features(datasets[\"test_df\"], items_meta_df, user_liked_mean_embeddings, user_disliked_mean_embeddings)\n",
    "test_pairs_sim_features = get_emb_sim_features(test_pairs, items_meta_df, user_liked_mean_embeddings, user_disliked_mean_embeddings)"
   ]
  },
  {
   "cell_type": "markdown",
   "id": "4726c311-d460-4377-8004-bff03bc7579c",
   "metadata": {},
   "source": [
    "## Catboost"
   ]
  },
  {
   "cell_type": "code",
   "execution_count": 47,
   "id": "e061ec3a-ec40-425c-a43b-a8788b5e589b",
   "metadata": {},
   "outputs": [
    {
     "data": {
      "text/plain": [
       "['predict_als_item_like',\n",
       " 'predict_als_source_like',\n",
       " 'predict_als_item_like_book_share',\n",
       " 'predict_als_source_like_book_share',\n",
       " 'n_users',\n",
       " 'mean_like',\n",
       " 'mean_dislike',\n",
       " 'mean_share',\n",
       " 'mean_bookmarks',\n",
       " 'mean_timespent_ratio',\n",
       " 'like_dislike_ratio',\n",
       " 'source_id',\n",
       " 'n_users_source',\n",
       " 'mean_like_source',\n",
       " 'mean_dislike_source',\n",
       " 'mean_share_source',\n",
       " 'mean_bookmarks_source',\n",
       " 'mean_timespent_ratio_source',\n",
       " 'like_dislike_ratio_source',\n",
       " 'liked_embeddings_sim',\n",
       " 'disliked_embeddings_sim']"
      ]
     },
     "execution_count": 47,
     "metadata": {},
     "output_type": "execute_result"
    }
   ],
   "source": [
    "def join_features(target, predict, item_stats, source_stats, items_meta_df, sim_features):\n",
    "    return (\n",
    "        target\n",
    "        .join(predict, how=\"left\", on=[\"user_id\", \"item_id\"])\n",
    "        .join(item_stats, how=\"left\", on=[\"item_id\"], suffix=\"_item\")\n",
    "        .join(items_meta_df.select(\"item_id\", \"source_id\"), how=\"left\", on=\"item_id\")\n",
    "        .join(source_stats, how=\"left\", on=\"source_id\", suffix=\"_source\")\n",
    "        .join(sim_features, how=\"left\", on=[\"user_id\", \"item_id\"])\n",
    "        .sort(\"user_id\")\n",
    "    )\n",
    "\n",
    "\n",
    "train_df_cb_final = join_features(\n",
    "    datasets[\"train_df_cb\"],\n",
    "    predicts[\"train_df_cb\"],\n",
    "    item_stats,\n",
    "    source_stats,\n",
    "    items_meta_df,\n",
    "    train_df_cb_sim_features,\n",
    ").with_columns(\n",
    "    (pl.col(\"like\").cast(int) - pl.col(\"dislike\").cast(int)).alias(\"target\")\n",
    ").to_pandas()\n",
    "\n",
    "test_df_final = join_features(\n",
    "    datasets[\"test_df\"],\n",
    "    predicts[\"test_df\"],\n",
    "    item_stats,\n",
    "    source_stats,\n",
    "    items_meta_df,\n",
    "    test_df_sim_features\n",
    ").with_columns(\n",
    "    (pl.col(\"like\").cast(int) - pl.col(\"dislike\").cast(int)).alias(\"target\")\n",
    ").to_pandas()\n",
    "\n",
    "test_pairs_final = join_features(\n",
    "    test_pairs,\n",
    "    predicts[\"test_pairs\"],\n",
    "    item_stats,\n",
    "    source_stats,\n",
    "    items_meta_df,\n",
    "    test_pairs_sim_features\n",
    ").to_pandas()\n",
    "\n",
    "feature_columns = [c for c in test_pairs_final.columns if c not in (\"user_id\", \"item_id\")]\n",
    "feature_columns"
   ]
  },
  {
   "cell_type": "code",
   "execution_count": 53,
   "id": "666d5794-10bc-434c-87c3-804ba51e881f",
   "metadata": {},
   "outputs": [],
   "source": [
    "from catboost import CatBoostRanker\n",
    "\n",
    "\n",
    "cb_model = CatBoostRanker(\n",
    "    iterations=1000, \n",
    "    depth=6, \n",
    "    random_seed=32, \n",
    "    verbose=0, \n",
    "    loss_function=\"YetiRank\"\n",
    ")\n",
    "cb_model.fit(train_df_cb_final[feature_columns], train_df_cb_final[\"target\"], group_id=train_df_cb_final[\"user_id\"])\n",
    "test_predict = cb_model.predict(test_df_final[feature_columns])"
   ]
  },
  {
   "cell_type": "code",
   "execution_count": 54,
   "id": "89835389-e39f-41c3-aa9a-966f0185c89b",
   "metadata": {},
   "outputs": [],
   "source": [
    "als_columns = ['predict_als_item_like', 'predict_als_source_like', 'predict_als_item_like_book_share', 'predict_als_source_like_book_share']"
   ]
  },
  {
   "cell_type": "code",
   "execution_count": 55,
   "id": "76d1e8e0-9db9-4972-b69e-5c4668ab072d",
   "metadata": {},
   "outputs": [
    {
     "data": {
      "text/html": [
       "<div><style>\n",
       ".dataframe > thead > tr,\n",
       ".dataframe > tbody > tr {\n",
       "  text-align: right;\n",
       "  white-space: pre-wrap;\n",
       "}\n",
       "</style>\n",
       "<small>shape: (3_658_100, 8)</small><table border=\"1\" class=\"dataframe\"><thead><tr><th>user_id</th><th>target</th><th>item_id</th><th>predict_als_item_like</th><th>predict_als_source_like</th><th>predict_als_item_like_book_share</th><th>predict_als_source_like_book_share</th><th>prediction</th></tr><tr><td>u32</td><td>i64</td><td>u32</td><td>f32</td><td>f32</td><td>f32</td><td>f32</td><td>f64</td></tr></thead><tbody><tr><td>0</td><td>0</td><td>151326</td><td>0.123165</td><td>0.206381</td><td>0.203803</td><td>0.207213</td><td>0.662815</td></tr><tr><td>0</td><td>0</td><td>26802</td><td>0.2264</td><td>0.656959</td><td>0.430454</td><td>0.55406</td><td>1.516802</td></tr><tr><td>0</td><td>0</td><td>37016</td><td>0.069969</td><td>0.359018</td><td>0.08447</td><td>0.450772</td><td>1.071515</td></tr><tr><td>0</td><td>0</td><td>70927</td><td>0.00685</td><td>0.491749</td><td>0.021152</td><td>0.488878</td><td>0.994075</td></tr><tr><td>0</td><td>0</td><td>109472</td><td>0.234428</td><td>0.082361</td><td>0.276142</td><td>0.829172</td><td>1.252075</td></tr><tr><td>&hellip;</td><td>&hellip;</td><td>&hellip;</td><td>&hellip;</td><td>&hellip;</td><td>&hellip;</td><td>&hellip;</td><td>&hellip;</td></tr><tr><td>183403</td><td>0</td><td>324475</td><td>0.005812</td><td>0.072278</td><td>0.007509</td><td>-0.002549</td><td>-1.17712</td></tr><tr><td>183403</td><td>0</td><td>222248</td><td>0.001375</td><td>0.442439</td><td>-0.002076</td><td>0.22556</td><td>-1.2275</td></tr><tr><td>183403</td><td>0</td><td>250109</td><td>0.011915</td><td>0.219656</td><td>0.081118</td><td>0.337798</td><td>-0.420173</td></tr><tr><td>183403</td><td>0</td><td>163616</td><td>0.034796</td><td>0.709094</td><td>0.034178</td><td>0.424552</td><td>0.172956</td></tr><tr><td>183403</td><td>0</td><td>229669</td><td>0.080274</td><td>0.668802</td><td>0.106154</td><td>0.652843</td><td>1.093298</td></tr></tbody></table></div>"
      ],
      "text/plain": [
       "shape: (3_658_100, 8)\n",
       "┌─────────┬────────┬─────────┬──────────────┬─────────────┬─────────────┬─────────────┬────────────┐\n",
       "│ user_id ┆ target ┆ item_id ┆ predict_als_ ┆ predict_als ┆ predict_als ┆ predict_als ┆ prediction │\n",
       "│ ---     ┆ ---    ┆ ---     ┆ item_like    ┆ _source_lik ┆ _item_like_ ┆ _source_lik ┆ ---        │\n",
       "│ u32     ┆ i64    ┆ u32     ┆ ---          ┆ e           ┆ book_sha…   ┆ e_book_s…   ┆ f64        │\n",
       "│         ┆        ┆         ┆ f32          ┆ ---         ┆ ---         ┆ ---         ┆            │\n",
       "│         ┆        ┆         ┆              ┆ f32         ┆ f32         ┆ f32         ┆            │\n",
       "╞═════════╪════════╪═════════╪══════════════╪═════════════╪═════════════╪═════════════╪════════════╡\n",
       "│ 0       ┆ 0      ┆ 151326  ┆ 0.123165     ┆ 0.206381    ┆ 0.203803    ┆ 0.207213    ┆ 0.662815   │\n",
       "│ 0       ┆ 0      ┆ 26802   ┆ 0.2264       ┆ 0.656959    ┆ 0.430454    ┆ 0.55406     ┆ 1.516802   │\n",
       "│ 0       ┆ 0      ┆ 37016   ┆ 0.069969     ┆ 0.359018    ┆ 0.08447     ┆ 0.450772    ┆ 1.071515   │\n",
       "│ 0       ┆ 0      ┆ 70927   ┆ 0.00685      ┆ 0.491749    ┆ 0.021152    ┆ 0.488878    ┆ 0.994075   │\n",
       "│ 0       ┆ 0      ┆ 109472  ┆ 0.234428     ┆ 0.082361    ┆ 0.276142    ┆ 0.829172    ┆ 1.252075   │\n",
       "│ …       ┆ …      ┆ …       ┆ …            ┆ …           ┆ …           ┆ …           ┆ …          │\n",
       "│ 183403  ┆ 0      ┆ 324475  ┆ 0.005812     ┆ 0.072278    ┆ 0.007509    ┆ -0.002549   ┆ -1.17712   │\n",
       "│ 183403  ┆ 0      ┆ 222248  ┆ 0.001375     ┆ 0.442439    ┆ -0.002076   ┆ 0.22556     ┆ -1.2275    │\n",
       "│ 183403  ┆ 0      ┆ 250109  ┆ 0.011915     ┆ 0.219656    ┆ 0.081118    ┆ 0.337798    ┆ -0.420173  │\n",
       "│ 183403  ┆ 0      ┆ 163616  ┆ 0.034796     ┆ 0.709094    ┆ 0.034178    ┆ 0.424552    ┆ 0.172956   │\n",
       "│ 183403  ┆ 0      ┆ 229669  ┆ 0.080274     ┆ 0.668802    ┆ 0.106154    ┆ 0.652843    ┆ 1.093298   │\n",
       "└─────────┴────────┴─────────┴──────────────┴─────────────┴─────────────┴─────────────┴────────────┘"
      ]
     },
     "execution_count": 55,
     "metadata": {},
     "output_type": "execute_result"
    }
   ],
   "source": [
    "test_df_final_prediction = (\n",
    "    pl.from_pandas(test_df_final[[\"user_id\", \"target\", \"item_id\", *als_columns]])\n",
    "    .with_columns(\n",
    "        pl.Series(test_predict).alias(\"prediction\")\n",
    "    )\n",
    ")\n",
    "\n",
    "test_df_final_prediction"
   ]
  },
  {
   "cell_type": "code",
   "execution_count": 56,
   "id": "32c600bf-4267-44b7-aa51-b0393fe794f2",
   "metadata": {},
   "outputs": [
    {
     "data": {
      "text/plain": [
       "<Axes: ylabel='Frequency'>"
      ]
     },
     "execution_count": 56,
     "metadata": {},
     "output_type": "execute_result"
    },
    {
     "data": {
      "image/png": "[encoded data removed]",
      "text/plain": [
       "<Figure size 640x480 with 1 Axes>"
      ]
     },
     "metadata": {},
     "output_type": "display_data"
    }
   ],
   "source": [
    "metrics_final = calc_user_auc(\n",
    "    df=test_df_final_prediction,\n",
    "    predict_col=\"prediction\", \n",
    "    target_col=\"target\"\n",
    ")\n",
    "\n",
    "metrics_final[\"rocauc\"].to_pandas().plot.hist(bins=100)"
   ]
  },
  {
   "cell_type": "code",
   "execution_count": 57,
   "id": "64241a86-c55a-400f-9725-229fec28d3a8",
   "metadata": {},
   "outputs": [
    {
     "name": "stdout",
     "output_type": "stream",
     "text": [
      "predict_als_item_like: 0.57888\n",
      "predict_als_source_like: 0.54419\n",
      "predict_als_item_like_book_share: 0.57519\n",
      "predict_als_source_like_book_share: 0.54144\n",
      "prediction: 0.63131\n"
     ]
    }
   ],
   "source": [
    "for predict_col in als_columns + [\"prediction\", ]:\n",
    "    metric_value = calc_user_auc(\n",
    "        df=test_df_final_prediction,\n",
    "        predict_col=predict_col, \n",
    "        target_col=\"target\"\n",
    "    )[\"rocauc\"].mean()\n",
    "\n",
    "    print(f\"{predict_col}: {metric_value:.5f}\")"
   ]
  },
  {
   "cell_type": "code",
   "execution_count": 52,
   "id": "2196998b-068f-4b7a-a513-c34764749da4",
   "metadata": {},
   "outputs": [
    {
     "name": "stdout",
     "output_type": "stream",
     "text": [
      "predict_als_item_like: 0.57888\n",
      "predict_als_source_like: 0.54419\n",
      "predict_als_item_like_book_share: 0.57519\n",
      "predict_als_source_like_book_share: 0.54144\n",
      "prediction: 0.63112\n"
     ]
    }
   ],
   "source": [
    "for predict_col in als_columns + [\"prediction\", ]:\n",
    "    metric_value = calc_user_auc(\n",
    "        df=test_df_final_prediction,\n",
    "        predict_col=predict_col, \n",
    "        target_col=\"target\"\n",
    "    )[\"rocauc\"].mean()\n",
    "\n",
    "    print(f\"{predict_col}: {metric_value:.5f}\")"
   ]
  },
  {
   "cell_type": "code",
   "execution_count": 23,
   "id": "8263da68-c836-4d4a-91bc-50f4e56a3373",
   "metadata": {},
   "outputs": [
    {
     "name": "stdout",
     "output_type": "stream",
     "text": [
      "predict_als_item_like: 0.57888\n",
      "predict_als_source_like: 0.54419\n",
      "predict_als_item_like_book_share: 0.57519\n",
      "predict_als_source_like_book_share: 0.54144\n",
      "prediction: 0.63060\n"
     ]
    }
   ],
   "source": [
    "for predict_col in als_columns + [\"prediction\", ]:\n",
    "    metric_value = calc_user_auc(\n",
    "        df=test_df_final_prediction,\n",
    "        predict_col=predict_col, \n",
    "        target_col=\"target\"\n",
    "    )[\"rocauc\"].mean()\n",
    "\n",
    "    print(f\"{predict_col}: {metric_value:.5f}\")"
   ]
  },
  {
   "cell_type": "code",
   "execution_count": 15,
   "id": "8a697e5c-a4c3-4470-a263-15f73e68cb16",
   "metadata": {},
   "outputs": [
    {
     "name": "stdout",
     "output_type": "stream",
     "text": [
      "predict_als_item_like: 0.57888\n",
      "predict_als_source_like: 0.54419\n",
      "predict_als_item_like_book_share: 0.57519\n",
      "predict_als_source_like_book_share: 0.54144\n",
      "prediction: 0.62933\n"
     ]
    }
   ],
   "source": [
    "for predict_col in als_columns + [\"prediction\", ]:\n",
    "    metric_value = calc_user_auc(\n",
    "        df=test_df_final_prediction,\n",
    "        predict_col=predict_col, \n",
    "        target_col=\"target\"\n",
    "    )[\"rocauc\"].mean()\n",
    "\n",
    "    print(f\"{predict_col}: {metric_value:.5f}\")"
   ]
  },
  {
   "cell_type": "code",
   "execution_count": 49,
   "id": "ab8c9258-9243-4f12-a895-b546e39913a3",
   "metadata": {},
   "outputs": [
    {
     "name": "stdout",
     "output_type": "stream",
     "text": [
      "predict_als_item_like: 0.56973\n",
      "predict_als_source_like: 0.54275\n",
      "predict_als_item_like_book_share: 0.56711\n",
      "predict_als_source_like_book_share: 0.53934\n",
      "prediction: 0.62694\n"
     ]
    }
   ],
   "source": [
    "for predict_col in als_columns + [\"prediction\", ]:\n",
    "    metric_value = calc_user_auc(\n",
    "        df=test_df_final_prediction,\n",
    "        predict_col=predict_col, \n",
    "        target_col=\"target\"\n",
    "    )[\"rocauc\"].mean()\n",
    "\n",
    "    print(f\"{predict_col}: {metric_value:.5f}\")"
   ]
  },
  {
   "cell_type": "markdown",
   "id": "50f553ab-bed8-4029-bf8f-cdaf28ebb859",
   "metadata": {},
   "source": [
    "### Optimize catboost"
   ]
  },
  {
   "cell_type": "code",
   "execution_count": 18,
   "id": "d37db16a-40c4-4921-84ef-0ec05e4d66f1",
   "metadata": {
    "scrolled": true
   },
   "outputs": [
    {
     "name": "stderr",
     "output_type": "stream",
     "text": [
      "[I 2024-11-09 15:44:50,749] A new study created in memory with name: no-name-60baede1-9505-4de9-ac87-b7afd5468cd5\n",
      "[I 2024-11-09 15:49:36,483] Trial 0 finished with value: 0.6295393932390786 and parameters: {'iterations': 655, 'depth': 4, 'loss_function': 'YetiRank'}. Best is trial 0 with value: 0.6295393932390786.\n",
      "[I 2024-11-09 15:52:59,455] Trial 1 finished with value: 0.6286372090922606 and parameters: {'iterations': 463, 'depth': 4, 'loss_function': 'YetiRank'}. Best is trial 0 with value: 0.6295393932390786.\n",
      "[I 2024-11-09 15:54:53,213] Trial 2 finished with value: 0.6168860195656528 and parameters: {'iterations': 178, 'depth': 4, 'loss_function': 'YetiRankPairwise'}. Best is trial 0 with value: 0.6295393932390786.\n",
      "[I 2024-11-09 15:55:12,654] Trial 3 finished with value: 0.624187686906993 and parameters: {'iterations': 119, 'depth': 5, 'loss_function': 'PairLogit'}. Best is trial 0 with value: 0.6295393932390786.\n",
      "[I 2024-11-09 15:58:57,695] Trial 4 finished with value: 0.6284856788559077 and parameters: {'iterations': 591, 'depth': 4, 'loss_function': 'PairLogit'}. Best is trial 0 with value: 0.6295393932390786.\n",
      "[I 2024-11-09 16:05:02,216] Trial 5 finished with value: 0.6305334354283199 and parameters: {'iterations': 821, 'depth': 5, 'loss_function': 'YetiRank'}. Best is trial 5 with value: 0.6305334354283199.\n",
      "[I 2024-11-09 16:11:01,840] Trial 6 finished with value: 0.6296218181087246 and parameters: {'iterations': 903, 'depth': 5, 'loss_function': 'PairLogit'}. Best is trial 5 with value: 0.6305334354283199.\n",
      "[I 2024-11-09 16:14:21,321] Trial 7 finished with value: 0.6283141161764971 and parameters: {'iterations': 523, 'depth': 4, 'loss_function': 'PairLogit'}. Best is trial 5 with value: 0.6305334354283199.\n",
      "[I 2024-11-09 16:20:29,686] Trial 8 finished with value: 0.6292075837306145 and parameters: {'iterations': 972, 'depth': 4, 'loss_function': 'PairLogit'}. Best is trial 5 with value: 0.6305334354283199.\n",
      "[I 2024-11-09 16:25:49,652] Trial 9 finished with value: 0.6298854526131733 and parameters: {'iterations': 725, 'depth': 4, 'loss_function': 'YetiRank'}. Best is trial 5 with value: 0.6305334354283199.\n",
      "[W 2024-11-09 16:40:39,694] Trial 10 failed with parameters: {'iterations': 804, 'depth': 6, 'loss_function': 'PairLogitPairwise'} because of the following error: KeyboardInterrupt('').\n",
      "Traceback (most recent call last):\n",
      "  File \"/Users/aleksandryusov/.pyenv/versions/base/lib/python3.10/site-packages/optuna/study/_optimize.py\", line 197, in _run_trial\n",
      "    value_or_values = func(trial)\n",
      "  File \"/var/folders/_c/z8s2c8c52r7bc79m4pkm_md80000gn/T/ipykernel_29306/1064677389.py\", line 13, in objective_cb\n",
      "    cb_model = CatBoostRanker(\n",
      "  File \"/Users/aleksandryusov/.pyenv/versions/base/lib/python3.10/site-packages/catboost/core.py\", line 6283, in fit\n",
      "    self._fit(X, y, cat_features, text_features, embedding_features, pairs, graph,\n",
      "  File \"/Users/aleksandryusov/.pyenv/versions/base/lib/python3.10/site-packages/catboost/core.py\", line 2410, in _fit\n",
      "    self._train(\n",
      "  File \"/Users/aleksandryusov/.pyenv/versions/base/lib/python3.10/site-packages/catboost/core.py\", line 1790, in _train\n",
      "    self._object._train(train_pool, test_pool, params, allow_clear_pool, init_model._object if init_model else None)\n",
      "  File \"_catboost.pyx\", line 5017, in _catboost._CatBoost._train\n",
      "  File \"_catboost.pyx\", line 5066, in _catboost._CatBoost._train\n",
      "KeyboardInterrupt\n",
      "[W 2024-11-09 16:40:39,696] Trial 10 failed with value None.\n"
     ]
    },
    {
     "ename": "KeyboardInterrupt",
     "evalue": "",
     "output_type": "error",
     "traceback": [
      "\u001b[0;31m---------------------------------------------------------------------------\u001b[0m",
      "\u001b[0;31mKeyboardInterrupt\u001b[0m                         Traceback (most recent call last)",
      "Cell \u001b[0;32mIn [18], line 46\u001b[0m\n\u001b[1;32m     38\u001b[0m     \u001b[38;5;28;01mreturn\u001b[39;00m calc_user_auc(\n\u001b[1;32m     39\u001b[0m         df\u001b[38;5;241m=\u001b[39mtest_df_final_prediction,\n\u001b[1;32m     40\u001b[0m         predict_col\u001b[38;5;241m=\u001b[39mpredict_col, \n\u001b[1;32m     41\u001b[0m         target_col\u001b[38;5;241m=\u001b[39m\u001b[38;5;124m\"\u001b[39m\u001b[38;5;124mtarget\u001b[39m\u001b[38;5;124m\"\u001b[39m\n\u001b[1;32m     42\u001b[0m     )[\u001b[38;5;124m\"\u001b[39m\u001b[38;5;124mrocauc\u001b[39m\u001b[38;5;124m\"\u001b[39m]\u001b[38;5;241m.\u001b[39mmean()\n\u001b[1;32m     45\u001b[0m study_cb \u001b[38;5;241m=\u001b[39m optuna\u001b[38;5;241m.\u001b[39mcreate_study(direction\u001b[38;5;241m=\u001b[39m\u001b[38;5;124m\"\u001b[39m\u001b[38;5;124mmaximize\u001b[39m\u001b[38;5;124m\"\u001b[39m)\n\u001b[0;32m---> 46\u001b[0m \u001b[43mstudy_cb\u001b[49m\u001b[38;5;241;43m.\u001b[39;49m\u001b[43moptimize\u001b[49m\u001b[43m(\u001b[49m\u001b[43mobjective_cb\u001b[49m\u001b[43m,\u001b[49m\u001b[43m \u001b[49m\u001b[43mn_trials\u001b[49m\u001b[38;5;241;43m=\u001b[39;49m\u001b[38;5;241;43m50\u001b[39;49m\u001b[43m)\u001b[49m\n\u001b[1;32m     47\u001b[0m study_cb\u001b[38;5;241m.\u001b[39mbest_params\n",
      "File \u001b[0;32m~/.pyenv/versions/base/lib/python3.10/site-packages/optuna/study/study.py:475\u001b[0m, in \u001b[0;36mStudy.optimize\u001b[0;34m(self, func, n_trials, timeout, n_jobs, catch, callbacks, gc_after_trial, show_progress_bar)\u001b[0m\n\u001b[1;32m    373\u001b[0m \u001b[38;5;28;01mdef\u001b[39;00m \u001b[38;5;21moptimize\u001b[39m(\n\u001b[1;32m    374\u001b[0m     \u001b[38;5;28mself\u001b[39m,\n\u001b[1;32m    375\u001b[0m     func: ObjectiveFuncType,\n\u001b[0;32m   (...)\u001b[0m\n\u001b[1;32m    382\u001b[0m     show_progress_bar: \u001b[38;5;28mbool\u001b[39m \u001b[38;5;241m=\u001b[39m \u001b[38;5;28;01mFalse\u001b[39;00m,\n\u001b[1;32m    383\u001b[0m ) \u001b[38;5;241m-\u001b[39m\u001b[38;5;241m>\u001b[39m \u001b[38;5;28;01mNone\u001b[39;00m:\n\u001b[1;32m    384\u001b[0m \u001b[38;5;250m    \u001b[39m\u001b[38;5;124;03m\"\"\"Optimize an objective function.\u001b[39;00m\n\u001b[1;32m    385\u001b[0m \n\u001b[1;32m    386\u001b[0m \u001b[38;5;124;03m    Optimization is done by choosing a suitable set of hyperparameter values from a given\u001b[39;00m\n\u001b[0;32m   (...)\u001b[0m\n\u001b[1;32m    473\u001b[0m \u001b[38;5;124;03m            If nested invocation of this method occurs.\u001b[39;00m\n\u001b[1;32m    474\u001b[0m \u001b[38;5;124;03m    \"\"\"\u001b[39;00m\n\u001b[0;32m--> 475\u001b[0m     \u001b[43m_optimize\u001b[49m\u001b[43m(\u001b[49m\n\u001b[1;32m    476\u001b[0m \u001b[43m        \u001b[49m\u001b[43mstudy\u001b[49m\u001b[38;5;241;43m=\u001b[39;49m\u001b[38;5;28;43mself\u001b[39;49m\u001b[43m,\u001b[49m\n\u001b[1;32m    477\u001b[0m \u001b[43m        \u001b[49m\u001b[43mfunc\u001b[49m\u001b[38;5;241;43m=\u001b[39;49m\u001b[43mfunc\u001b[49m\u001b[43m,\u001b[49m\n\u001b[1;32m    478\u001b[0m \u001b[43m        \u001b[49m\u001b[43mn_trials\u001b[49m\u001b[38;5;241;43m=\u001b[39;49m\u001b[43mn_trials\u001b[49m\u001b[43m,\u001b[49m\n\u001b[1;32m    479\u001b[0m \u001b[43m        \u001b[49m\u001b[43mtimeout\u001b[49m\u001b[38;5;241;43m=\u001b[39;49m\u001b[43mtimeout\u001b[49m\u001b[43m,\u001b[49m\n\u001b[1;32m    480\u001b[0m \u001b[43m        \u001b[49m\u001b[43mn_jobs\u001b[49m\u001b[38;5;241;43m=\u001b[39;49m\u001b[43mn_jobs\u001b[49m\u001b[43m,\u001b[49m\n\u001b[1;32m    481\u001b[0m \u001b[43m        \u001b[49m\u001b[43mcatch\u001b[49m\u001b[38;5;241;43m=\u001b[39;49m\u001b[38;5;28;43mtuple\u001b[39;49m\u001b[43m(\u001b[49m\u001b[43mcatch\u001b[49m\u001b[43m)\u001b[49m\u001b[43m \u001b[49m\u001b[38;5;28;43;01mif\u001b[39;49;00m\u001b[43m \u001b[49m\u001b[38;5;28;43misinstance\u001b[39;49m\u001b[43m(\u001b[49m\u001b[43mcatch\u001b[49m\u001b[43m,\u001b[49m\u001b[43m \u001b[49m\u001b[43mIterable\u001b[49m\u001b[43m)\u001b[49m\u001b[43m \u001b[49m\u001b[38;5;28;43;01melse\u001b[39;49;00m\u001b[43m \u001b[49m\u001b[43m(\u001b[49m\u001b[43mcatch\u001b[49m\u001b[43m,\u001b[49m\u001b[43m)\u001b[49m\u001b[43m,\u001b[49m\n\u001b[1;32m    482\u001b[0m \u001b[43m        \u001b[49m\u001b[43mcallbacks\u001b[49m\u001b[38;5;241;43m=\u001b[39;49m\u001b[43mcallbacks\u001b[49m\u001b[43m,\u001b[49m\n\u001b[1;32m    483\u001b[0m \u001b[43m        \u001b[49m\u001b[43mgc_after_trial\u001b[49m\u001b[38;5;241;43m=\u001b[39;49m\u001b[43mgc_after_trial\u001b[49m\u001b[43m,\u001b[49m\n\u001b[1;32m    484\u001b[0m \u001b[43m        \u001b[49m\u001b[43mshow_progress_bar\u001b[49m\u001b[38;5;241;43m=\u001b[39;49m\u001b[43mshow_progress_bar\u001b[49m\u001b[43m,\u001b[49m\n\u001b[1;32m    485\u001b[0m \u001b[43m    \u001b[49m\u001b[43m)\u001b[49m\n",
      "File \u001b[0;32m~/.pyenv/versions/base/lib/python3.10/site-packages/optuna/study/_optimize.py:63\u001b[0m, in \u001b[0;36m_optimize\u001b[0;34m(study, func, n_trials, timeout, n_jobs, catch, callbacks, gc_after_trial, show_progress_bar)\u001b[0m\n\u001b[1;32m     61\u001b[0m \u001b[38;5;28;01mtry\u001b[39;00m:\n\u001b[1;32m     62\u001b[0m     \u001b[38;5;28;01mif\u001b[39;00m n_jobs \u001b[38;5;241m==\u001b[39m \u001b[38;5;241m1\u001b[39m:\n\u001b[0;32m---> 63\u001b[0m         \u001b[43m_optimize_sequential\u001b[49m\u001b[43m(\u001b[49m\n\u001b[1;32m     64\u001b[0m \u001b[43m            \u001b[49m\u001b[43mstudy\u001b[49m\u001b[43m,\u001b[49m\n\u001b[1;32m     65\u001b[0m \u001b[43m            \u001b[49m\u001b[43mfunc\u001b[49m\u001b[43m,\u001b[49m\n\u001b[1;32m     66\u001b[0m \u001b[43m            \u001b[49m\u001b[43mn_trials\u001b[49m\u001b[43m,\u001b[49m\n\u001b[1;32m     67\u001b[0m \u001b[43m            \u001b[49m\u001b[43mtimeout\u001b[49m\u001b[43m,\u001b[49m\n\u001b[1;32m     68\u001b[0m \u001b[43m            \u001b[49m\u001b[43mcatch\u001b[49m\u001b[43m,\u001b[49m\n\u001b[1;32m     69\u001b[0m \u001b[43m            \u001b[49m\u001b[43mcallbacks\u001b[49m\u001b[43m,\u001b[49m\n\u001b[1;32m     70\u001b[0m \u001b[43m            \u001b[49m\u001b[43mgc_after_trial\u001b[49m\u001b[43m,\u001b[49m\n\u001b[1;32m     71\u001b[0m \u001b[43m            \u001b[49m\u001b[43mreseed_sampler_rng\u001b[49m\u001b[38;5;241;43m=\u001b[39;49m\u001b[38;5;28;43;01mFalse\u001b[39;49;00m\u001b[43m,\u001b[49m\n\u001b[1;32m     72\u001b[0m \u001b[43m            \u001b[49m\u001b[43mtime_start\u001b[49m\u001b[38;5;241;43m=\u001b[39;49m\u001b[38;5;28;43;01mNone\u001b[39;49;00m\u001b[43m,\u001b[49m\n\u001b[1;32m     73\u001b[0m \u001b[43m            \u001b[49m\u001b[43mprogress_bar\u001b[49m\u001b[38;5;241;43m=\u001b[39;49m\u001b[43mprogress_bar\u001b[49m\u001b[43m,\u001b[49m\n\u001b[1;32m     74\u001b[0m \u001b[43m        \u001b[49m\u001b[43m)\u001b[49m\n\u001b[1;32m     75\u001b[0m     \u001b[38;5;28;01melse\u001b[39;00m:\n\u001b[1;32m     76\u001b[0m         \u001b[38;5;28;01mif\u001b[39;00m n_jobs \u001b[38;5;241m==\u001b[39m \u001b[38;5;241m-\u001b[39m\u001b[38;5;241m1\u001b[39m:\n",
      "File \u001b[0;32m~/.pyenv/versions/base/lib/python3.10/site-packages/optuna/study/_optimize.py:160\u001b[0m, in \u001b[0;36m_optimize_sequential\u001b[0;34m(study, func, n_trials, timeout, catch, callbacks, gc_after_trial, reseed_sampler_rng, time_start, progress_bar)\u001b[0m\n\u001b[1;32m    157\u001b[0m         \u001b[38;5;28;01mbreak\u001b[39;00m\n\u001b[1;32m    159\u001b[0m \u001b[38;5;28;01mtry\u001b[39;00m:\n\u001b[0;32m--> 160\u001b[0m     frozen_trial \u001b[38;5;241m=\u001b[39m \u001b[43m_run_trial\u001b[49m\u001b[43m(\u001b[49m\u001b[43mstudy\u001b[49m\u001b[43m,\u001b[49m\u001b[43m \u001b[49m\u001b[43mfunc\u001b[49m\u001b[43m,\u001b[49m\u001b[43m \u001b[49m\u001b[43mcatch\u001b[49m\u001b[43m)\u001b[49m\n\u001b[1;32m    161\u001b[0m \u001b[38;5;28;01mfinally\u001b[39;00m:\n\u001b[1;32m    162\u001b[0m     \u001b[38;5;66;03m# The following line mitigates memory problems that can be occurred in some\u001b[39;00m\n\u001b[1;32m    163\u001b[0m     \u001b[38;5;66;03m# environments (e.g., services that use computing containers such as GitHub Actions).\u001b[39;00m\n\u001b[1;32m    164\u001b[0m     \u001b[38;5;66;03m# Please refer to the following PR for further details:\u001b[39;00m\n\u001b[1;32m    165\u001b[0m     \u001b[38;5;66;03m# https://github.com/optuna/optuna/pull/325.\u001b[39;00m\n\u001b[1;32m    166\u001b[0m     \u001b[38;5;28;01mif\u001b[39;00m gc_after_trial:\n",
      "File \u001b[0;32m~/.pyenv/versions/base/lib/python3.10/site-packages/optuna/study/_optimize.py:248\u001b[0m, in \u001b[0;36m_run_trial\u001b[0;34m(study, func, catch)\u001b[0m\n\u001b[1;32m    241\u001b[0m         \u001b[38;5;28;01massert\u001b[39;00m \u001b[38;5;28;01mFalse\u001b[39;00m, \u001b[38;5;124m\"\u001b[39m\u001b[38;5;124mShould not reach.\u001b[39m\u001b[38;5;124m\"\u001b[39m\n\u001b[1;32m    243\u001b[0m \u001b[38;5;28;01mif\u001b[39;00m (\n\u001b[1;32m    244\u001b[0m     frozen_trial\u001b[38;5;241m.\u001b[39mstate \u001b[38;5;241m==\u001b[39m TrialState\u001b[38;5;241m.\u001b[39mFAIL\n\u001b[1;32m    245\u001b[0m     \u001b[38;5;129;01mand\u001b[39;00m func_err \u001b[38;5;129;01mis\u001b[39;00m \u001b[38;5;129;01mnot\u001b[39;00m \u001b[38;5;28;01mNone\u001b[39;00m\n\u001b[1;32m    246\u001b[0m     \u001b[38;5;129;01mand\u001b[39;00m \u001b[38;5;129;01mnot\u001b[39;00m \u001b[38;5;28misinstance\u001b[39m(func_err, catch)\n\u001b[1;32m    247\u001b[0m ):\n\u001b[0;32m--> 248\u001b[0m     \u001b[38;5;28;01mraise\u001b[39;00m func_err\n\u001b[1;32m    249\u001b[0m \u001b[38;5;28;01mreturn\u001b[39;00m frozen_trial\n",
      "File \u001b[0;32m~/.pyenv/versions/base/lib/python3.10/site-packages/optuna/study/_optimize.py:197\u001b[0m, in \u001b[0;36m_run_trial\u001b[0;34m(study, func, catch)\u001b[0m\n\u001b[1;32m    195\u001b[0m \u001b[38;5;28;01mwith\u001b[39;00m get_heartbeat_thread(trial\u001b[38;5;241m.\u001b[39m_trial_id, study\u001b[38;5;241m.\u001b[39m_storage):\n\u001b[1;32m    196\u001b[0m     \u001b[38;5;28;01mtry\u001b[39;00m:\n\u001b[0;32m--> 197\u001b[0m         value_or_values \u001b[38;5;241m=\u001b[39m \u001b[43mfunc\u001b[49m\u001b[43m(\u001b[49m\u001b[43mtrial\u001b[49m\u001b[43m)\u001b[49m\n\u001b[1;32m    198\u001b[0m     \u001b[38;5;28;01mexcept\u001b[39;00m exceptions\u001b[38;5;241m.\u001b[39mTrialPruned \u001b[38;5;28;01mas\u001b[39;00m e:\n\u001b[1;32m    199\u001b[0m         \u001b[38;5;66;03m# TODO(mamu): Handle multi-objective cases.\u001b[39;00m\n\u001b[1;32m    200\u001b[0m         state \u001b[38;5;241m=\u001b[39m TrialState\u001b[38;5;241m.\u001b[39mPRUNED\n",
      "Cell \u001b[0;32mIn [18], line 13\u001b[0m, in \u001b[0;36mobjective_cb\u001b[0;34m(trial)\u001b[0m\n\u001b[1;32m      6\u001b[0m depth \u001b[38;5;241m=\u001b[39m trial\u001b[38;5;241m.\u001b[39msuggest_int(\u001b[38;5;124m'\u001b[39m\u001b[38;5;124mdepth\u001b[39m\u001b[38;5;124m'\u001b[39m, \u001b[38;5;241m4\u001b[39m, \u001b[38;5;241m6\u001b[39m)\n\u001b[1;32m      7\u001b[0m loss_function \u001b[38;5;241m=\u001b[39m trial\u001b[38;5;241m.\u001b[39msuggest_categorical(\u001b[38;5;124m'\u001b[39m\u001b[38;5;124mloss_function\u001b[39m\u001b[38;5;124m'\u001b[39m, [\n\u001b[1;32m      8\u001b[0m     \u001b[38;5;124m\"\u001b[39m\u001b[38;5;124mPairLogit\u001b[39m\u001b[38;5;124m\"\u001b[39m, \u001b[38;5;124m\"\u001b[39m\u001b[38;5;124mPairLogitPairwise\u001b[39m\u001b[38;5;124m\"\u001b[39m, \n\u001b[1;32m      9\u001b[0m     \u001b[38;5;124m\"\u001b[39m\u001b[38;5;124mYetiRank\u001b[39m\u001b[38;5;124m\"\u001b[39m, \u001b[38;5;124m\"\u001b[39m\u001b[38;5;124mYetiRankPairwise\u001b[39m\u001b[38;5;124m\"\u001b[39m, \n\u001b[1;32m     10\u001b[0m     \u001b[38;5;66;03m# \"QueryRMSE\", \"QuerySoftMax\"\u001b[39;00m\n\u001b[1;32m     11\u001b[0m ])\n\u001b[0;32m---> 13\u001b[0m cb_model \u001b[38;5;241m=\u001b[39m \u001b[43mCatBoostRanker\u001b[49m\u001b[43m(\u001b[49m\n\u001b[1;32m     14\u001b[0m \u001b[43m    \u001b[49m\u001b[43miterations\u001b[49m\u001b[38;5;241;43m=\u001b[39;49m\u001b[43miterations\u001b[49m\u001b[43m,\u001b[49m\u001b[43m \u001b[49m\n\u001b[1;32m     15\u001b[0m \u001b[43m    \u001b[49m\u001b[43mdepth\u001b[49m\u001b[38;5;241;43m=\u001b[39;49m\u001b[43mdepth\u001b[49m\u001b[43m,\u001b[49m\u001b[43m \u001b[49m\n\u001b[1;32m     16\u001b[0m \u001b[43m    \u001b[49m\u001b[43mrandom_seed\u001b[49m\u001b[38;5;241;43m=\u001b[39;49m\u001b[38;5;241;43m32\u001b[39;49m\u001b[43m,\u001b[49m\u001b[43m \u001b[49m\n\u001b[1;32m     17\u001b[0m \u001b[43m    \u001b[49m\u001b[43mverbose\u001b[49m\u001b[38;5;241;43m=\u001b[39;49m\u001b[38;5;241;43m0\u001b[39;49m\u001b[43m,\u001b[49m\u001b[43m \u001b[49m\n\u001b[1;32m     18\u001b[0m \u001b[43m    \u001b[49m\u001b[43mloss_function\u001b[49m\u001b[38;5;241;43m=\u001b[39;49m\u001b[43mloss_function\u001b[49m\n\u001b[1;32m     19\u001b[0m \u001b[43m\u001b[49m\u001b[43m)\u001b[49m\u001b[38;5;241;43m.\u001b[39;49m\u001b[43mfit\u001b[49m\u001b[43m(\u001b[49m\n\u001b[1;32m     20\u001b[0m \u001b[43m    \u001b[49m\u001b[43mtrain_df_cb_final\u001b[49m\u001b[43m[\u001b[49m\u001b[43mfeature_columns\u001b[49m\u001b[43m]\u001b[49m\u001b[43m,\u001b[49m\u001b[43m \u001b[49m\n\u001b[1;32m     21\u001b[0m \u001b[43m    \u001b[49m\u001b[43mtrain_df_cb_final\u001b[49m\u001b[43m[\u001b[49m\u001b[38;5;124;43m\"\u001b[39;49m\u001b[38;5;124;43mtarget\u001b[39;49m\u001b[38;5;124;43m\"\u001b[39;49m\u001b[43m]\u001b[49m\u001b[43m,\u001b[49m\u001b[43m \u001b[49m\n\u001b[1;32m     22\u001b[0m \u001b[43m    \u001b[49m\u001b[43mgroup_id\u001b[49m\u001b[38;5;241;43m=\u001b[39;49m\u001b[43mtrain_df_cb_final\u001b[49m\u001b[43m[\u001b[49m\u001b[38;5;124;43m\"\u001b[39;49m\u001b[38;5;124;43muser_id\u001b[39;49m\u001b[38;5;124;43m\"\u001b[39;49m\u001b[43m]\u001b[49m\n\u001b[1;32m     23\u001b[0m \u001b[43m\u001b[49m\u001b[43m)\u001b[49m\n\u001b[1;32m     25\u001b[0m test_df_final_prediction \u001b[38;5;241m=\u001b[39m (\n\u001b[1;32m     26\u001b[0m     pl\u001b[38;5;241m.\u001b[39mfrom_pandas(test_df_final[[\u001b[38;5;124m\"\u001b[39m\u001b[38;5;124muser_id\u001b[39m\u001b[38;5;124m\"\u001b[39m, \u001b[38;5;124m\"\u001b[39m\u001b[38;5;124mtarget\u001b[39m\u001b[38;5;124m\"\u001b[39m, \u001b[38;5;124m\"\u001b[39m\u001b[38;5;124mitem_id\u001b[39m\u001b[38;5;124m\"\u001b[39m, \u001b[38;5;241m*\u001b[39mals_columns]])\n\u001b[1;32m     27\u001b[0m     \u001b[38;5;241m.\u001b[39mwith_columns(\n\u001b[1;32m     28\u001b[0m         pl\u001b[38;5;241m.\u001b[39mSeries(cb_model\u001b[38;5;241m.\u001b[39mpredict(test_df_final[feature_columns]))\u001b[38;5;241m.\u001b[39malias(\u001b[38;5;124m\"\u001b[39m\u001b[38;5;124mprediction\u001b[39m\u001b[38;5;124m\"\u001b[39m)\n\u001b[1;32m     29\u001b[0m     )\n\u001b[1;32m     30\u001b[0m )\n\u001b[1;32m     32\u001b[0m metrics_final \u001b[38;5;241m=\u001b[39m calc_user_auc(\n\u001b[1;32m     33\u001b[0m     df\u001b[38;5;241m=\u001b[39mtest_df_final_prediction,\n\u001b[1;32m     34\u001b[0m     predict_col\u001b[38;5;241m=\u001b[39m\u001b[38;5;124m\"\u001b[39m\u001b[38;5;124mprediction\u001b[39m\u001b[38;5;124m\"\u001b[39m, \n\u001b[1;32m     35\u001b[0m     target_col\u001b[38;5;241m=\u001b[39m\u001b[38;5;124m\"\u001b[39m\u001b[38;5;124mtarget\u001b[39m\u001b[38;5;124m\"\u001b[39m\n\u001b[1;32m     36\u001b[0m )\n",
      "File \u001b[0;32m~/.pyenv/versions/base/lib/python3.10/site-packages/catboost/core.py:6283\u001b[0m, in \u001b[0;36mCatBoostRanker.fit\u001b[0;34m(self, X, y, group_id, cat_features, text_features, embedding_features, pairs, graph, sample_weight, group_weight, subgroup_id, pairs_weight, baseline, use_best_model, eval_set, verbose, logging_level, plot, plot_file, column_description, verbose_eval, metric_period, silent, early_stopping_rounds, save_snapshot, snapshot_file, snapshot_interval, init_model, callbacks, log_cout, log_cerr)\u001b[0m\n\u001b[1;32m   6280\u001b[0m \u001b[38;5;28;01mif\u001b[39;00m \u001b[38;5;124m'\u001b[39m\u001b[38;5;124mloss_function\u001b[39m\u001b[38;5;124m'\u001b[39m \u001b[38;5;129;01min\u001b[39;00m params:\n\u001b[1;32m   6281\u001b[0m     CatBoostRanker\u001b[38;5;241m.\u001b[39m_check_is_compatible_loss(params[\u001b[38;5;124m'\u001b[39m\u001b[38;5;124mloss_function\u001b[39m\u001b[38;5;124m'\u001b[39m])\n\u001b[0;32m-> 6283\u001b[0m \u001b[38;5;28;43mself\u001b[39;49m\u001b[38;5;241;43m.\u001b[39;49m\u001b[43m_fit\u001b[49m\u001b[43m(\u001b[49m\u001b[43mX\u001b[49m\u001b[43m,\u001b[49m\u001b[43m \u001b[49m\u001b[43my\u001b[49m\u001b[43m,\u001b[49m\u001b[43m \u001b[49m\u001b[43mcat_features\u001b[49m\u001b[43m,\u001b[49m\u001b[43m \u001b[49m\u001b[43mtext_features\u001b[49m\u001b[43m,\u001b[49m\u001b[43m \u001b[49m\u001b[43membedding_features\u001b[49m\u001b[43m,\u001b[49m\u001b[43m \u001b[49m\u001b[43mpairs\u001b[49m\u001b[43m,\u001b[49m\u001b[43m \u001b[49m\u001b[43mgraph\u001b[49m\u001b[43m,\u001b[49m\n\u001b[1;32m   6284\u001b[0m \u001b[43m          \u001b[49m\u001b[43msample_weight\u001b[49m\u001b[43m,\u001b[49m\u001b[43m \u001b[49m\u001b[43mgroup_id\u001b[49m\u001b[43m,\u001b[49m\u001b[43m \u001b[49m\u001b[43mgroup_weight\u001b[49m\u001b[43m,\u001b[49m\u001b[43m \u001b[49m\u001b[43msubgroup_id\u001b[49m\u001b[43m,\u001b[49m\u001b[43m \u001b[49m\u001b[43mpairs_weight\u001b[49m\u001b[43m,\u001b[49m\u001b[43m \u001b[49m\u001b[43mbaseline\u001b[49m\u001b[43m,\u001b[49m\u001b[43m \u001b[49m\u001b[43muse_best_model\u001b[49m\u001b[43m,\u001b[49m\n\u001b[1;32m   6285\u001b[0m \u001b[43m          \u001b[49m\u001b[43meval_set\u001b[49m\u001b[43m,\u001b[49m\u001b[43m \u001b[49m\u001b[43mverbose\u001b[49m\u001b[43m,\u001b[49m\u001b[43m \u001b[49m\u001b[43mlogging_level\u001b[49m\u001b[43m,\u001b[49m\u001b[43m \u001b[49m\u001b[43mplot\u001b[49m\u001b[43m,\u001b[49m\u001b[43m \u001b[49m\u001b[43mplot_file\u001b[49m\u001b[43m,\u001b[49m\u001b[43m \u001b[49m\u001b[43mcolumn_description\u001b[49m\u001b[43m,\u001b[49m\u001b[43m \u001b[49m\u001b[43mverbose_eval\u001b[49m\u001b[43m,\u001b[49m\u001b[43m \u001b[49m\u001b[43mmetric_period\u001b[49m\u001b[43m,\u001b[49m\n\u001b[1;32m   6286\u001b[0m \u001b[43m          \u001b[49m\u001b[43msilent\u001b[49m\u001b[43m,\u001b[49m\u001b[43m \u001b[49m\u001b[43mearly_stopping_rounds\u001b[49m\u001b[43m,\u001b[49m\u001b[43m \u001b[49m\u001b[43msave_snapshot\u001b[49m\u001b[43m,\u001b[49m\u001b[43m \u001b[49m\u001b[43msnapshot_file\u001b[49m\u001b[43m,\u001b[49m\u001b[43m \u001b[49m\u001b[43msnapshot_interval\u001b[49m\u001b[43m,\u001b[49m\u001b[43m \u001b[49m\u001b[43minit_model\u001b[49m\u001b[43m,\u001b[49m\u001b[43m \u001b[49m\u001b[43mcallbacks\u001b[49m\u001b[43m,\u001b[49m\u001b[43m \u001b[49m\u001b[43mlog_cout\u001b[49m\u001b[43m,\u001b[49m\u001b[43m \u001b[49m\u001b[43mlog_cerr\u001b[49m\u001b[43m)\u001b[49m\n\u001b[1;32m   6287\u001b[0m \u001b[38;5;28;01mreturn\u001b[39;00m \u001b[38;5;28mself\u001b[39m\n",
      "File \u001b[0;32m~/.pyenv/versions/base/lib/python3.10/site-packages/catboost/core.py:2410\u001b[0m, in \u001b[0;36mCatBoost._fit\u001b[0;34m(self, X, y, cat_features, text_features, embedding_features, pairs, graph, sample_weight, group_id, group_weight, subgroup_id, pairs_weight, baseline, use_best_model, eval_set, verbose, logging_level, plot, plot_file, column_description, verbose_eval, metric_period, silent, early_stopping_rounds, save_snapshot, snapshot_file, snapshot_interval, init_model, callbacks, log_cout, log_cerr)\u001b[0m\n\u001b[1;32m   2407\u001b[0m allow_clear_pool \u001b[38;5;241m=\u001b[39m train_params[\u001b[38;5;124m\"\u001b[39m\u001b[38;5;124mallow_clear_pool\u001b[39m\u001b[38;5;124m\"\u001b[39m]\n\u001b[1;32m   2409\u001b[0m \u001b[38;5;28;01mwith\u001b[39;00m plot_wrapper(plot, plot_file, \u001b[38;5;124m'\u001b[39m\u001b[38;5;124mTraining plots\u001b[39m\u001b[38;5;124m'\u001b[39m, [_get_train_dir(\u001b[38;5;28mself\u001b[39m\u001b[38;5;241m.\u001b[39mget_params())]):\n\u001b[0;32m-> 2410\u001b[0m     \u001b[38;5;28;43mself\u001b[39;49m\u001b[38;5;241;43m.\u001b[39;49m\u001b[43m_train\u001b[49m\u001b[43m(\u001b[49m\n\u001b[1;32m   2411\u001b[0m \u001b[43m        \u001b[49m\u001b[43mtrain_pool\u001b[49m\u001b[43m,\u001b[49m\n\u001b[1;32m   2412\u001b[0m \u001b[43m        \u001b[49m\u001b[43mtrain_params\u001b[49m\u001b[43m[\u001b[49m\u001b[38;5;124;43m\"\u001b[39;49m\u001b[38;5;124;43meval_sets\u001b[39;49m\u001b[38;5;124;43m\"\u001b[39;49m\u001b[43m]\u001b[49m\u001b[43m,\u001b[49m\n\u001b[1;32m   2413\u001b[0m \u001b[43m        \u001b[49m\u001b[43mparams\u001b[49m\u001b[43m,\u001b[49m\n\u001b[1;32m   2414\u001b[0m \u001b[43m        \u001b[49m\u001b[43mallow_clear_pool\u001b[49m\u001b[43m,\u001b[49m\n\u001b[1;32m   2415\u001b[0m \u001b[43m        \u001b[49m\u001b[43mtrain_params\u001b[49m\u001b[43m[\u001b[49m\u001b[38;5;124;43m\"\u001b[39;49m\u001b[38;5;124;43minit_model\u001b[39;49m\u001b[38;5;124;43m\"\u001b[39;49m\u001b[43m]\u001b[49m\n\u001b[1;32m   2416\u001b[0m \u001b[43m    \u001b[49m\u001b[43m)\u001b[49m\n\u001b[1;32m   2418\u001b[0m \u001b[38;5;66;03m# Have property feature_importance possibly set\u001b[39;00m\n\u001b[1;32m   2419\u001b[0m loss \u001b[38;5;241m=\u001b[39m \u001b[38;5;28mself\u001b[39m\u001b[38;5;241m.\u001b[39m_object\u001b[38;5;241m.\u001b[39m_get_loss_function_name()\n",
      "File \u001b[0;32m~/.pyenv/versions/base/lib/python3.10/site-packages/catboost/core.py:1790\u001b[0m, in \u001b[0;36m_CatBoostBase._train\u001b[0;34m(self, train_pool, test_pool, params, allow_clear_pool, init_model)\u001b[0m\n\u001b[1;32m   1789\u001b[0m \u001b[38;5;28;01mdef\u001b[39;00m \u001b[38;5;21m_train\u001b[39m(\u001b[38;5;28mself\u001b[39m, train_pool, test_pool, params, allow_clear_pool, init_model):\n\u001b[0;32m-> 1790\u001b[0m     \u001b[38;5;28;43mself\u001b[39;49m\u001b[38;5;241;43m.\u001b[39;49m\u001b[43m_object\u001b[49m\u001b[38;5;241;43m.\u001b[39;49m\u001b[43m_train\u001b[49m\u001b[43m(\u001b[49m\u001b[43mtrain_pool\u001b[49m\u001b[43m,\u001b[49m\u001b[43m \u001b[49m\u001b[43mtest_pool\u001b[49m\u001b[43m,\u001b[49m\u001b[43m \u001b[49m\u001b[43mparams\u001b[49m\u001b[43m,\u001b[49m\u001b[43m \u001b[49m\u001b[43mallow_clear_pool\u001b[49m\u001b[43m,\u001b[49m\u001b[43m \u001b[49m\u001b[43minit_model\u001b[49m\u001b[38;5;241;43m.\u001b[39;49m\u001b[43m_object\u001b[49m\u001b[43m \u001b[49m\u001b[38;5;28;43;01mif\u001b[39;49;00m\u001b[43m \u001b[49m\u001b[43minit_model\u001b[49m\u001b[43m \u001b[49m\u001b[38;5;28;43;01melse\u001b[39;49;00m\u001b[43m \u001b[49m\u001b[38;5;28;43;01mNone\u001b[39;49;00m\u001b[43m)\u001b[49m\n\u001b[1;32m   1791\u001b[0m     \u001b[38;5;28mself\u001b[39m\u001b[38;5;241m.\u001b[39m_set_trained_model_attributes()\n",
      "File \u001b[0;32m_catboost.pyx:5017\u001b[0m, in \u001b[0;36m_catboost._CatBoost._train\u001b[0;34m()\u001b[0m\n",
      "File \u001b[0;32m_catboost.pyx:5066\u001b[0m, in \u001b[0;36m_catboost._CatBoost._train\u001b[0;34m()\u001b[0m\n",
      "\u001b[0;31mKeyboardInterrupt\u001b[0m: "
     ]
    }
   ],
   "source": [
    "import optuna\n",
    "\n",
    "\n",
    "def objective_cb(trial):\n",
    "    iterations = trial.suggest_int('iterations', 100, 1000)\n",
    "    depth = trial.suggest_int('depth', 4, 6)\n",
    "    loss_function = trial.suggest_categorical('loss_function', [\n",
    "        \"PairLogit\", \"PairLogitPairwise\", \n",
    "        \"YetiRank\", \"YetiRankPairwise\", \n",
    "        # \"QueryRMSE\", \"QuerySoftMax\"\n",
    "    ])\n",
    "\n",
    "    cb_model = CatBoostRanker(\n",
    "        iterations=iterations, \n",
    "        depth=depth, \n",
    "        random_seed=32, \n",
    "        verbose=0, \n",
    "        loss_function=loss_function\n",
    "    ).fit(\n",
    "        train_df_cb_final[feature_columns], \n",
    "        train_df_cb_final[\"target\"], \n",
    "        group_id=train_df_cb_final[\"user_id\"]\n",
    "    )\n",
    "\n",
    "    test_df_final_prediction = (\n",
    "        pl.from_pandas(test_df_final[[\"user_id\", \"target\", \"item_id\", *als_columns]])\n",
    "        .with_columns(\n",
    "            pl.Series(cb_model.predict(test_df_final[feature_columns])).alias(\"prediction\")\n",
    "        )\n",
    "    )\n",
    "\n",
    "    metrics_final = calc_user_auc(\n",
    "        df=test_df_final_prediction,\n",
    "        predict_col=\"prediction\", \n",
    "        target_col=\"target\"\n",
    "    )\n",
    "\n",
    "    return calc_user_auc(\n",
    "        df=test_df_final_prediction,\n",
    "        predict_col=predict_col, \n",
    "        target_col=\"target\"\n",
    "    )[\"rocauc\"].mean()\n",
    "\n",
    "\n",
    "study_cb = optuna.create_study(direction=\"maximize\")\n",
    "study_cb.optimize(objective_cb, n_trials=50)\n",
    "study_cb.best_params"
   ]
  },
  {
   "cell_type": "markdown",
   "id": "77b89be9-c788-4c02-9891-6c9bf8e0df24",
   "metadata": {},
   "source": [
    "# Финальное предсказание"
   ]
  },
  {
   "cell_type": "code",
   "execution_count": 58,
   "id": "032bd270-24ac-4f55-a930-63dcbaa3dd18",
   "metadata": {},
   "outputs": [],
   "source": [
    "from datetime import datetime\n",
    "\n",
    "\n",
    "submission_predict = cb_model.predict(test_pairs_final[feature_columns])\n",
    "test_pairs_final[\"predict\"] = submission_predict\n",
    "test_pairs_final[[\"user_id\", \"item_id\", \"predict\"]].to_csv(f'../data/submissions/{int(datetime.now().timestamp())}_submission.csv', index=False)"
   ]
  }
 ],
 "metadata": {
  "kernelspec": {
   "display_name": "base",
   "language": "python",
   "name": "base"
  },
  "language_info": {
   "codemirror_mode": {
    "name": "ipython",
    "version": 3
   },
   "file_extension": ".py",
   "mimetype": "text/x-python",
   "name": "python",
   "nbconvert_exporter": "python",
   "pygments_lexer": "ipython3",
   "version": "3.10.12"
  }
 },
 "nbformat": 4,
 "nbformat_minor": 5
}
